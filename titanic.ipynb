{
 "cells": [
  {
   "cell_type": "markdown",
   "id": "f60712b2",
   "metadata": {
    "papermill": {
     "duration": 0.03242,
     "end_time": "2021-07-24T09:43:19.318353",
     "exception": false,
     "start_time": "2021-07-24T09:43:19.285933",
     "status": "completed"
    },
    "tags": []
   },
   "source": [
    "This is my first kaggle project submission. Please add comment, if any changes required"
   ]
  },
  {
   "cell_type": "code",
   "execution_count": 1,
   "id": "a757e718",
   "metadata": {
    "execution": {
     "iopub.execute_input": "2021-07-24T09:43:19.399076Z",
     "iopub.status.busy": "2021-07-24T09:43:19.398228Z",
     "iopub.status.idle": "2021-07-24T09:43:20.930913Z",
     "shell.execute_reply": "2021-07-24T09:43:20.930114Z",
     "shell.execute_reply.started": "2021-07-24T09:32:24.690766Z"
    },
    "id": "DC3vAE53BT1S",
    "papermill": {
     "duration": 1.579653,
     "end_time": "2021-07-24T09:43:20.931104",
     "exception": false,
     "start_time": "2021-07-24T09:43:19.351451",
     "status": "completed"
    },
    "tags": []
   },
   "outputs": [],
   "source": [
    "import pandas as pd\n",
    "import numpy as np\n",
    "\n",
    "from sklearn import preprocessing    \n",
    "le = preprocessing.LabelEncoder()\n",
    "\n",
    "from sklearn.ensemble import RandomForestRegressor\n",
    "import seaborn as sns\n",
    "\n",
    "from sklearn.tree import DecisionTreeClassifier\n",
    "\n",
    "import matplotlib.pyplot as plt\n",
    "%matplotlib inline"
   ]
  },
  {
   "cell_type": "code",
   "execution_count": 2,
   "id": "f9885d44",
   "metadata": {
    "execution": {
     "iopub.execute_input": "2021-07-24T09:43:21.000835Z",
     "iopub.status.busy": "2021-07-24T09:43:20.999784Z",
     "iopub.status.idle": "2021-07-24T09:43:21.032537Z",
     "shell.execute_reply": "2021-07-24T09:43:21.033130Z",
     "shell.execute_reply.started": "2021-07-24T09:32:26.264722Z"
    },
    "id": "D1C__ejaBtx6",
    "papermill": {
     "duration": 0.070763,
     "end_time": "2021-07-24T09:43:21.033355",
     "exception": false,
     "start_time": "2021-07-24T09:43:20.962592",
     "status": "completed"
    },
    "tags": []
   },
   "outputs": [],
   "source": [
    "titanic_train_df = pd.read_csv('../input/titanic/train.csv')\n",
    "titanic_test_df  = pd.read_csv('../input/titanic/test.csv')"
   ]
  },
  {
   "cell_type": "code",
   "execution_count": 3,
   "id": "9e951a23",
   "metadata": {
    "execution": {
     "iopub.execute_input": "2021-07-24T09:43:21.128303Z",
     "iopub.status.busy": "2021-07-24T09:43:21.109369Z",
     "iopub.status.idle": "2021-07-24T09:43:21.133713Z",
     "shell.execute_reply": "2021-07-24T09:43:21.134418Z",
     "shell.execute_reply.started": "2021-07-24T09:32:26.295193Z"
    },
    "id": "sRmFb-RABtse",
    "outputId": "e47718e0-5a6c-4df6-abd2-aa9ad34135db",
    "papermill": {
     "duration": 0.07013,
     "end_time": "2021-07-24T09:43:21.134713",
     "exception": false,
     "start_time": "2021-07-24T09:43:21.064583",
     "status": "completed"
    },
    "tags": []
   },
   "outputs": [
    {
     "name": "stdout",
     "output_type": "stream",
     "text": [
      "<class 'pandas.core.frame.DataFrame'>\n",
      "RangeIndex: 891 entries, 0 to 890\n",
      "Data columns (total 12 columns):\n",
      " #   Column       Non-Null Count  Dtype  \n",
      "---  ------       --------------  -----  \n",
      " 0   PassengerId  891 non-null    int64  \n",
      " 1   Survived     891 non-null    int64  \n",
      " 2   Pclass       891 non-null    int64  \n",
      " 3   Name         891 non-null    object \n",
      " 4   Sex          891 non-null    object \n",
      " 5   Age          714 non-null    float64\n",
      " 6   SibSp        891 non-null    int64  \n",
      " 7   Parch        891 non-null    int64  \n",
      " 8   Ticket       891 non-null    object \n",
      " 9   Fare         891 non-null    float64\n",
      " 10  Cabin        204 non-null    object \n",
      " 11  Embarked     889 non-null    object \n",
      "dtypes: float64(2), int64(5), object(5)\n",
      "memory usage: 83.7+ KB\n"
     ]
    }
   ],
   "source": [
    "titanic_train_df.info()"
   ]
  },
  {
   "cell_type": "code",
   "execution_count": 4,
   "id": "9d98cc4f",
   "metadata": {
    "execution": {
     "iopub.execute_input": "2021-07-24T09:43:21.207616Z",
     "iopub.status.busy": "2021-07-24T09:43:21.206672Z",
     "iopub.status.idle": "2021-07-24T09:43:21.211464Z",
     "shell.execute_reply": "2021-07-24T09:43:21.212022Z",
     "shell.execute_reply.started": "2021-07-24T09:32:26.330282Z"
    },
    "id": "o82n0O2x7RW_",
    "outputId": "8c794341-5886-43c6-fc8d-a2fdc3da37a9",
    "papermill": {
     "duration": 0.045015,
     "end_time": "2021-07-24T09:43:21.212221",
     "exception": false,
     "start_time": "2021-07-24T09:43:21.167206",
     "status": "completed"
    },
    "tags": []
   },
   "outputs": [
    {
     "data": {
      "text/plain": [
       "(891, 12)"
      ]
     },
     "execution_count": 4,
     "metadata": {},
     "output_type": "execute_result"
    }
   ],
   "source": [
    "titanic_train_df.shape"
   ]
  },
  {
   "cell_type": "code",
   "execution_count": 5,
   "id": "aa3860b8",
   "metadata": {
    "execution": {
     "iopub.execute_input": "2021-07-24T09:43:21.282861Z",
     "iopub.status.busy": "2021-07-24T09:43:21.282087Z",
     "iopub.status.idle": "2021-07-24T09:43:21.305570Z",
     "shell.execute_reply": "2021-07-24T09:43:21.304932Z",
     "shell.execute_reply.started": "2021-07-24T09:32:26.348931Z"
    },
    "id": "ZfrFdbD8Btls",
    "outputId": "4a85575f-08ab-4109-a41e-b62ef0aa3297",
    "papermill": {
     "duration": 0.062239,
     "end_time": "2021-07-24T09:43:21.305746",
     "exception": false,
     "start_time": "2021-07-24T09:43:21.243507",
     "status": "completed"
    },
    "tags": []
   },
   "outputs": [
    {
     "data": {
      "text/html": [
       "<div>\n",
       "<style scoped>\n",
       "    .dataframe tbody tr th:only-of-type {\n",
       "        vertical-align: middle;\n",
       "    }\n",
       "\n",
       "    .dataframe tbody tr th {\n",
       "        vertical-align: top;\n",
       "    }\n",
       "\n",
       "    .dataframe thead th {\n",
       "        text-align: right;\n",
       "    }\n",
       "</style>\n",
       "<table border=\"1\" class=\"dataframe\">\n",
       "  <thead>\n",
       "    <tr style=\"text-align: right;\">\n",
       "      <th></th>\n",
       "      <th>PassengerId</th>\n",
       "      <th>Survived</th>\n",
       "      <th>Pclass</th>\n",
       "      <th>Name</th>\n",
       "      <th>Sex</th>\n",
       "      <th>Age</th>\n",
       "      <th>SibSp</th>\n",
       "      <th>Parch</th>\n",
       "      <th>Ticket</th>\n",
       "      <th>Fare</th>\n",
       "      <th>Cabin</th>\n",
       "      <th>Embarked</th>\n",
       "    </tr>\n",
       "  </thead>\n",
       "  <tbody>\n",
       "    <tr>\n",
       "      <th>0</th>\n",
       "      <td>1</td>\n",
       "      <td>0</td>\n",
       "      <td>3</td>\n",
       "      <td>Braund, Mr. Owen Harris</td>\n",
       "      <td>male</td>\n",
       "      <td>22.0</td>\n",
       "      <td>1</td>\n",
       "      <td>0</td>\n",
       "      <td>A/5 21171</td>\n",
       "      <td>7.2500</td>\n",
       "      <td>NaN</td>\n",
       "      <td>S</td>\n",
       "    </tr>\n",
       "    <tr>\n",
       "      <th>1</th>\n",
       "      <td>2</td>\n",
       "      <td>1</td>\n",
       "      <td>1</td>\n",
       "      <td>Cumings, Mrs. John Bradley (Florence Briggs Th...</td>\n",
       "      <td>female</td>\n",
       "      <td>38.0</td>\n",
       "      <td>1</td>\n",
       "      <td>0</td>\n",
       "      <td>PC 17599</td>\n",
       "      <td>71.2833</td>\n",
       "      <td>C85</td>\n",
       "      <td>C</td>\n",
       "    </tr>\n",
       "    <tr>\n",
       "      <th>2</th>\n",
       "      <td>3</td>\n",
       "      <td>1</td>\n",
       "      <td>3</td>\n",
       "      <td>Heikkinen, Miss. Laina</td>\n",
       "      <td>female</td>\n",
       "      <td>26.0</td>\n",
       "      <td>0</td>\n",
       "      <td>0</td>\n",
       "      <td>STON/O2. 3101282</td>\n",
       "      <td>7.9250</td>\n",
       "      <td>NaN</td>\n",
       "      <td>S</td>\n",
       "    </tr>\n",
       "    <tr>\n",
       "      <th>3</th>\n",
       "      <td>4</td>\n",
       "      <td>1</td>\n",
       "      <td>1</td>\n",
       "      <td>Futrelle, Mrs. Jacques Heath (Lily May Peel)</td>\n",
       "      <td>female</td>\n",
       "      <td>35.0</td>\n",
       "      <td>1</td>\n",
       "      <td>0</td>\n",
       "      <td>113803</td>\n",
       "      <td>53.1000</td>\n",
       "      <td>C123</td>\n",
       "      <td>S</td>\n",
       "    </tr>\n",
       "    <tr>\n",
       "      <th>4</th>\n",
       "      <td>5</td>\n",
       "      <td>0</td>\n",
       "      <td>3</td>\n",
       "      <td>Allen, Mr. William Henry</td>\n",
       "      <td>male</td>\n",
       "      <td>35.0</td>\n",
       "      <td>0</td>\n",
       "      <td>0</td>\n",
       "      <td>373450</td>\n",
       "      <td>8.0500</td>\n",
       "      <td>NaN</td>\n",
       "      <td>S</td>\n",
       "    </tr>\n",
       "  </tbody>\n",
       "</table>\n",
       "</div>"
      ],
      "text/plain": [
       "   PassengerId  Survived  Pclass  \\\n",
       "0            1         0       3   \n",
       "1            2         1       1   \n",
       "2            3         1       3   \n",
       "3            4         1       1   \n",
       "4            5         0       3   \n",
       "\n",
       "                                                Name     Sex   Age  SibSp  \\\n",
       "0                            Braund, Mr. Owen Harris    male  22.0      1   \n",
       "1  Cumings, Mrs. John Bradley (Florence Briggs Th...  female  38.0      1   \n",
       "2                             Heikkinen, Miss. Laina  female  26.0      0   \n",
       "3       Futrelle, Mrs. Jacques Heath (Lily May Peel)  female  35.0      1   \n",
       "4                           Allen, Mr. William Henry    male  35.0      0   \n",
       "\n",
       "   Parch            Ticket     Fare Cabin Embarked  \n",
       "0      0         A/5 21171   7.2500   NaN        S  \n",
       "1      0          PC 17599  71.2833   C85        C  \n",
       "2      0  STON/O2. 3101282   7.9250   NaN        S  \n",
       "3      0            113803  53.1000  C123        S  \n",
       "4      0            373450   8.0500   NaN        S  "
      ]
     },
     "execution_count": 5,
     "metadata": {},
     "output_type": "execute_result"
    }
   ],
   "source": [
    "titanic_train_df.head()"
   ]
  },
  {
   "cell_type": "code",
   "execution_count": 6,
   "id": "7ca62fa4",
   "metadata": {
    "execution": {
     "iopub.execute_input": "2021-07-24T09:43:21.380289Z",
     "iopub.status.busy": "2021-07-24T09:43:21.379604Z",
     "iopub.status.idle": "2021-07-24T09:43:21.409741Z",
     "shell.execute_reply": "2021-07-24T09:43:21.410274Z",
     "shell.execute_reply.started": "2021-07-24T09:32:26.382642Z"
    },
    "id": "YVf82avvBtaj",
    "outputId": "52b7501c-37dc-4ce9-a675-1f6b7f5b7359",
    "papermill": {
     "duration": 0.072758,
     "end_time": "2021-07-24T09:43:21.410479",
     "exception": false,
     "start_time": "2021-07-24T09:43:21.337721",
     "status": "completed"
    },
    "tags": []
   },
   "outputs": [
    {
     "data": {
      "text/html": [
       "<div>\n",
       "<style scoped>\n",
       "    .dataframe tbody tr th:only-of-type {\n",
       "        vertical-align: middle;\n",
       "    }\n",
       "\n",
       "    .dataframe tbody tr th {\n",
       "        vertical-align: top;\n",
       "    }\n",
       "\n",
       "    .dataframe thead th {\n",
       "        text-align: right;\n",
       "    }\n",
       "</style>\n",
       "<table border=\"1\" class=\"dataframe\">\n",
       "  <thead>\n",
       "    <tr style=\"text-align: right;\">\n",
       "      <th></th>\n",
       "      <th>PassengerId</th>\n",
       "      <th>Survived</th>\n",
       "      <th>Pclass</th>\n",
       "      <th>Age</th>\n",
       "      <th>SibSp</th>\n",
       "      <th>Parch</th>\n",
       "      <th>Fare</th>\n",
       "    </tr>\n",
       "  </thead>\n",
       "  <tbody>\n",
       "    <tr>\n",
       "      <th>count</th>\n",
       "      <td>891.000000</td>\n",
       "      <td>891.000000</td>\n",
       "      <td>891.000000</td>\n",
       "      <td>714.000000</td>\n",
       "      <td>891.000000</td>\n",
       "      <td>891.000000</td>\n",
       "      <td>891.000000</td>\n",
       "    </tr>\n",
       "    <tr>\n",
       "      <th>mean</th>\n",
       "      <td>446.000000</td>\n",
       "      <td>0.383838</td>\n",
       "      <td>2.308642</td>\n",
       "      <td>29.699118</td>\n",
       "      <td>0.523008</td>\n",
       "      <td>0.381594</td>\n",
       "      <td>32.204208</td>\n",
       "    </tr>\n",
       "    <tr>\n",
       "      <th>std</th>\n",
       "      <td>257.353842</td>\n",
       "      <td>0.486592</td>\n",
       "      <td>0.836071</td>\n",
       "      <td>14.526497</td>\n",
       "      <td>1.102743</td>\n",
       "      <td>0.806057</td>\n",
       "      <td>49.693429</td>\n",
       "    </tr>\n",
       "    <tr>\n",
       "      <th>min</th>\n",
       "      <td>1.000000</td>\n",
       "      <td>0.000000</td>\n",
       "      <td>1.000000</td>\n",
       "      <td>0.420000</td>\n",
       "      <td>0.000000</td>\n",
       "      <td>0.000000</td>\n",
       "      <td>0.000000</td>\n",
       "    </tr>\n",
       "    <tr>\n",
       "      <th>25%</th>\n",
       "      <td>223.500000</td>\n",
       "      <td>0.000000</td>\n",
       "      <td>2.000000</td>\n",
       "      <td>20.125000</td>\n",
       "      <td>0.000000</td>\n",
       "      <td>0.000000</td>\n",
       "      <td>7.910400</td>\n",
       "    </tr>\n",
       "    <tr>\n",
       "      <th>50%</th>\n",
       "      <td>446.000000</td>\n",
       "      <td>0.000000</td>\n",
       "      <td>3.000000</td>\n",
       "      <td>28.000000</td>\n",
       "      <td>0.000000</td>\n",
       "      <td>0.000000</td>\n",
       "      <td>14.454200</td>\n",
       "    </tr>\n",
       "    <tr>\n",
       "      <th>75%</th>\n",
       "      <td>668.500000</td>\n",
       "      <td>1.000000</td>\n",
       "      <td>3.000000</td>\n",
       "      <td>38.000000</td>\n",
       "      <td>1.000000</td>\n",
       "      <td>0.000000</td>\n",
       "      <td>31.000000</td>\n",
       "    </tr>\n",
       "    <tr>\n",
       "      <th>max</th>\n",
       "      <td>891.000000</td>\n",
       "      <td>1.000000</td>\n",
       "      <td>3.000000</td>\n",
       "      <td>80.000000</td>\n",
       "      <td>8.000000</td>\n",
       "      <td>6.000000</td>\n",
       "      <td>512.329200</td>\n",
       "    </tr>\n",
       "  </tbody>\n",
       "</table>\n",
       "</div>"
      ],
      "text/plain": [
       "       PassengerId    Survived      Pclass         Age       SibSp  \\\n",
       "count   891.000000  891.000000  891.000000  714.000000  891.000000   \n",
       "mean    446.000000    0.383838    2.308642   29.699118    0.523008   \n",
       "std     257.353842    0.486592    0.836071   14.526497    1.102743   \n",
       "min       1.000000    0.000000    1.000000    0.420000    0.000000   \n",
       "25%     223.500000    0.000000    2.000000   20.125000    0.000000   \n",
       "50%     446.000000    0.000000    3.000000   28.000000    0.000000   \n",
       "75%     668.500000    1.000000    3.000000   38.000000    1.000000   \n",
       "max     891.000000    1.000000    3.000000   80.000000    8.000000   \n",
       "\n",
       "            Parch        Fare  \n",
       "count  891.000000  891.000000  \n",
       "mean     0.381594   32.204208  \n",
       "std      0.806057   49.693429  \n",
       "min      0.000000    0.000000  \n",
       "25%      0.000000    7.910400  \n",
       "50%      0.000000   14.454200  \n",
       "75%      0.000000   31.000000  \n",
       "max      6.000000  512.329200  "
      ]
     },
     "execution_count": 6,
     "metadata": {},
     "output_type": "execute_result"
    }
   ],
   "source": [
    "titanic_train_df.describe()"
   ]
  },
  {
   "cell_type": "code",
   "execution_count": 7,
   "id": "745a4a2f",
   "metadata": {
    "execution": {
     "iopub.execute_input": "2021-07-24T09:43:21.492135Z",
     "iopub.status.busy": "2021-07-24T09:43:21.491404Z",
     "iopub.status.idle": "2021-07-24T09:43:21.495649Z",
     "shell.execute_reply": "2021-07-24T09:43:21.495107Z",
     "shell.execute_reply.started": "2021-07-24T09:32:26.419798Z"
    },
    "id": "iHunsUISJMc5",
    "outputId": "ea9a1613-38d3-464c-972a-6a2281117f4f",
    "papermill": {
     "duration": 0.0528,
     "end_time": "2021-07-24T09:43:21.495834",
     "exception": false,
     "start_time": "2021-07-24T09:43:21.443034",
     "status": "completed"
    },
    "tags": []
   },
   "outputs": [
    {
     "name": "stdout",
     "output_type": "stream",
     "text": [
      "<class 'pandas.core.frame.DataFrame'>\n",
      "RangeIndex: 891 entries, 0 to 890\n",
      "Data columns (total 12 columns):\n",
      " #   Column       Non-Null Count  Dtype  \n",
      "---  ------       --------------  -----  \n",
      " 0   PassengerId  891 non-null    int64  \n",
      " 1   Survived     891 non-null    int64  \n",
      " 2   Pclass       891 non-null    int64  \n",
      " 3   Name         891 non-null    object \n",
      " 4   Sex          891 non-null    object \n",
      " 5   Age          714 non-null    float64\n",
      " 6   SibSp        891 non-null    int64  \n",
      " 7   Parch        891 non-null    int64  \n",
      " 8   Ticket       891 non-null    object \n",
      " 9   Fare         891 non-null    float64\n",
      " 10  Cabin        204 non-null    object \n",
      " 11  Embarked     889 non-null    object \n",
      "dtypes: float64(2), int64(5), object(5)\n",
      "memory usage: 83.7+ KB\n"
     ]
    }
   ],
   "source": [
    "titanic_train_df.info()"
   ]
  },
  {
   "cell_type": "code",
   "execution_count": 8,
   "id": "12a7c5bc",
   "metadata": {
    "execution": {
     "iopub.execute_input": "2021-07-24T09:43:21.567857Z",
     "iopub.status.busy": "2021-07-24T09:43:21.567090Z",
     "iopub.status.idle": "2021-07-24T09:43:21.570421Z",
     "shell.execute_reply": "2021-07-24T09:43:21.569819Z",
     "shell.execute_reply.started": "2021-07-24T09:32:26.439134Z"
    },
    "id": "EKOMpKLNBthv",
    "papermill": {
     "duration": 0.041688,
     "end_time": "2021-07-24T09:43:21.570578",
     "exception": false,
     "start_time": "2021-07-24T09:43:21.528890",
     "status": "completed"
    },
    "tags": []
   },
   "outputs": [],
   "source": [
    "def findtitle(line):   \n",
    "    splitLine = line.split(',')\n",
    "    name = splitLine[1].split('.')\n",
    "    title = name[0].strip()\n",
    "    return title"
   ]
  },
  {
   "cell_type": "code",
   "execution_count": 9,
   "id": "12f5decb",
   "metadata": {
    "execution": {
     "iopub.execute_input": "2021-07-24T09:43:21.643823Z",
     "iopub.status.busy": "2021-07-24T09:43:21.643132Z",
     "iopub.status.idle": "2021-07-24T09:43:21.646051Z",
     "shell.execute_reply": "2021-07-24T09:43:21.646538Z",
     "shell.execute_reply.started": "2021-07-24T09:32:26.450813Z"
    },
    "id": "giqxKcf67s9s",
    "papermill": {
     "duration": 0.042852,
     "end_time": "2021-07-24T09:43:21.646749",
     "exception": false,
     "start_time": "2021-07-24T09:43:21.603897",
     "status": "completed"
    },
    "tags": []
   },
   "outputs": [],
   "source": [
    "def BuiltBarGraph(df_plt,feature):\n",
    "  survived = df_plt[df_plt['Survived']==1][feature].value_counts()\n",
    "  dead = df_plt[df_plt['Survived']==0][feature].value_counts()\n",
    "  df = pd.DataFrame([survived,dead])\n",
    "  df.index = ['Survived','Dead']\n",
    "  df.plot(kind='bar',stacked=True, figsize=(10,5))"
   ]
  },
  {
   "cell_type": "code",
   "execution_count": 10,
   "id": "e03b8142",
   "metadata": {
    "execution": {
     "iopub.execute_input": "2021-07-24T09:43:21.719803Z",
     "iopub.status.busy": "2021-07-24T09:43:21.718828Z",
     "iopub.status.idle": "2021-07-24T09:43:21.982533Z",
     "shell.execute_reply": "2021-07-24T09:43:21.983192Z",
     "shell.execute_reply.started": "2021-07-24T09:32:26.464256Z"
    },
    "id": "hPMV4LBsDFtM",
    "outputId": "35c640cf-35a9-4a1c-d677-1bada12c2432",
    "papermill": {
     "duration": 0.303526,
     "end_time": "2021-07-24T09:43:21.983396",
     "exception": false,
     "start_time": "2021-07-24T09:43:21.679870",
     "status": "completed"
    },
    "tags": []
   },
   "outputs": [
    {
     "data": {
      "image/png": "[encoded data removed]",
      "text/plain": [
       "<Figure size 720x360 with 1 Axes>"
      ]
     },
     "metadata": {
      "needs_background": "light"
     },
     "output_type": "display_data"
    }
   ],
   "source": [
    "BuiltBarGraph(titanic_train_df,'Sex')"
   ]
  },
  {
   "cell_type": "code",
   "execution_count": 11,
   "id": "1dce4c42",
   "metadata": {
    "execution": {
     "iopub.execute_input": "2021-07-24T09:43:22.056045Z",
     "iopub.status.busy": "2021-07-24T09:43:22.055041Z",
     "iopub.status.idle": "2021-07-24T09:43:22.255303Z",
     "shell.execute_reply": "2021-07-24T09:43:22.255778Z",
     "shell.execute_reply.started": "2021-07-24T09:32:26.720381Z"
    },
    "id": "2eeGkA1zDNnJ",
    "outputId": "d04f8784-2314-4fd2-a742-f84472e9f028",
    "papermill": {
     "duration": 0.238197,
     "end_time": "2021-07-24T09:43:22.255998",
     "exception": false,
     "start_time": "2021-07-24T09:43:22.017801",
     "status": "completed"
    },
    "tags": []
   },
   "outputs": [
    {
     "data": {
      "image/png": "[encoded data removed]",
      "text/plain": [
       "<Figure size 720x360 with 1 Axes>"
      ]
     },
     "metadata": {
      "needs_background": "light"
     },
     "output_type": "display_data"
    }
   ],
   "source": [
    "BuiltBarGraph(titanic_train_df,'Pclass')"
   ]
  },
  {
   "cell_type": "code",
   "execution_count": 12,
   "id": "1e52201c",
   "metadata": {
    "execution": {
     "iopub.execute_input": "2021-07-24T09:43:22.328499Z",
     "iopub.status.busy": "2021-07-24T09:43:22.327528Z",
     "iopub.status.idle": "2021-07-24T09:43:22.336494Z",
     "shell.execute_reply": "2021-07-24T09:43:22.337000Z",
     "shell.execute_reply.started": "2021-07-24T09:32:26.908972Z"
    },
    "id": "9hbCrG-EJCyf",
    "papermill": {
     "duration": 0.047033,
     "end_time": "2021-07-24T09:43:22.337209",
     "exception": false,
     "start_time": "2021-07-24T09:43:22.290176",
     "status": "completed"
    },
    "tags": []
   },
   "outputs": [],
   "source": [
    "titanic_train_df['Title'] = titanic_train_df['Name'].apply(findtitle)\n",
    "titanic_test_df['Title'] = titanic_test_df['Name'].apply(findtitle)"
   ]
  },
  {
   "cell_type": "code",
   "execution_count": 13,
   "id": "52966d4e",
   "metadata": {
    "execution": {
     "iopub.execute_input": "2021-07-24T09:43:22.409974Z",
     "iopub.status.busy": "2021-07-24T09:43:22.409004Z",
     "iopub.status.idle": "2021-07-24T09:43:22.416946Z",
     "shell.execute_reply": "2021-07-24T09:43:22.416407Z",
     "shell.execute_reply.started": "2021-07-24T09:32:26.919343Z"
    },
    "id": "8pwn5aieJOWv",
    "outputId": "939ec70e-fc25-4c6f-be34-f3f6f2b9f7e4",
    "papermill": {
     "duration": 0.04563,
     "end_time": "2021-07-24T09:43:22.417108",
     "exception": false,
     "start_time": "2021-07-24T09:43:22.371478",
     "status": "completed"
    },
    "tags": []
   },
   "outputs": [
    {
     "data": {
      "text/plain": [
       "array(['Mr', 'Mrs', 'Miss', 'Master', 'Don', 'Rev', 'Dr', 'Mme', 'Ms',\n",
       "       'Major', 'Lady', 'Sir', 'Mlle', 'Col', 'Capt', 'the Countess',\n",
       "       'Jonkheer'], dtype=object)"
      ]
     },
     "execution_count": 13,
     "metadata": {},
     "output_type": "execute_result"
    }
   ],
   "source": [
    "titanic_train_df['Title'].unique()"
   ]
  },
  {
   "cell_type": "code",
   "execution_count": 14,
   "id": "452a896c",
   "metadata": {
    "execution": {
     "iopub.execute_input": "2021-07-24T09:43:22.495572Z",
     "iopub.status.busy": "2021-07-24T09:43:22.494439Z",
     "iopub.status.idle": "2021-07-24T09:43:22.501667Z",
     "shell.execute_reply": "2021-07-24T09:43:22.502156Z",
     "shell.execute_reply.started": "2021-07-24T09:32:26.935642Z"
    },
    "id": "oyYThaFmQNts",
    "papermill": {
     "duration": 0.050473,
     "end_time": "2021-07-24T09:43:22.502361",
     "exception": false,
     "start_time": "2021-07-24T09:43:22.451888",
     "status": "completed"
    },
    "tags": []
   },
   "outputs": [],
   "source": [
    "titanic_train_df['Title'] = titanic_train_df['Title'].replace(to_replace =[\"Lady\", \"Countess\",\"Capt\", \"Col\",\"Don\", \"Dr\", \"Major\", \"Rev\", \"Sir\", \"Jonkheer\",\"Dona\",\"the Countess\"], value =\"Other\")\n",
    "titanic_train_df['Title'] = titanic_train_df['Title'].replace('Mlle', 'Miss')\n",
    "titanic_train_df['Title'] = titanic_train_df['Title'].replace('Ms', 'Miss')\n",
    "titanic_train_df['Title'] = titanic_train_df['Title'].replace('Mme', 'Mrs')\n"
   ]
  },
  {
   "cell_type": "code",
   "execution_count": 15,
   "id": "dc04fe24",
   "metadata": {
    "execution": {
     "iopub.execute_input": "2021-07-24T09:43:22.576063Z",
     "iopub.status.busy": "2021-07-24T09:43:22.575082Z",
     "iopub.status.idle": "2021-07-24T09:43:22.797889Z",
     "shell.execute_reply": "2021-07-24T09:43:22.798364Z",
     "shell.execute_reply.started": "2021-07-24T09:32:26.954902Z"
    },
    "id": "0WwQ8O3BDdGG",
    "outputId": "f3b84398-a64c-4189-8271-72b8d7cb18ed",
    "papermill": {
     "duration": 0.261257,
     "end_time": "2021-07-24T09:43:22.798572",
     "exception": false,
     "start_time": "2021-07-24T09:43:22.537315",
     "status": "completed"
    },
    "tags": []
   },
   "outputs": [
    {
     "data": {
      "image/png": "[encoded data removed]",
      "text/plain": [
       "<Figure size 720x360 with 1 Axes>"
      ]
     },
     "metadata": {
      "needs_background": "light"
     },
     "output_type": "display_data"
    }
   ],
   "source": [
    "BuiltBarGraph(titanic_train_df,'Title')"
   ]
  },
  {
   "cell_type": "code",
   "execution_count": 16,
   "id": "858c1523",
   "metadata": {
    "execution": {
     "iopub.execute_input": "2021-07-24T09:43:22.874129Z",
     "iopub.status.busy": "2021-07-24T09:43:22.873161Z",
     "iopub.status.idle": "2021-07-24T09:43:22.878973Z",
     "shell.execute_reply": "2021-07-24T09:43:22.879565Z",
     "shell.execute_reply.started": "2021-07-24T09:32:27.178319Z"
    },
    "id": "OGCluW_FD3fL",
    "papermill": {
     "duration": 0.045049,
     "end_time": "2021-07-24T09:43:22.879804",
     "exception": false,
     "start_time": "2021-07-24T09:43:22.834755",
     "status": "completed"
    },
    "tags": []
   },
   "outputs": [],
   "source": [
    "titanic_train_df['Title'] = le.fit_transform(titanic_train_df['Title'])"
   ]
  },
  {
   "cell_type": "code",
   "execution_count": 17,
   "id": "f54832dd",
   "metadata": {
    "execution": {
     "iopub.execute_input": "2021-07-24T09:43:22.954870Z",
     "iopub.status.busy": "2021-07-24T09:43:22.953928Z",
     "iopub.status.idle": "2021-07-24T09:43:22.964362Z",
     "shell.execute_reply": "2021-07-24T09:43:22.964851Z",
     "shell.execute_reply.started": "2021-07-24T09:32:27.186021Z"
    },
    "id": "C-yjcPPHV3dx",
    "papermill": {
     "duration": 0.049243,
     "end_time": "2021-07-24T09:43:22.965027",
     "exception": false,
     "start_time": "2021-07-24T09:43:22.915784",
     "status": "completed"
    },
    "tags": []
   },
   "outputs": [],
   "source": [
    "titanic_test_df['Title'] = titanic_test_df['Title'].replace(to_replace =[\"Lady\", \"Countess\",\"Capt\", \"Col\",\"Don\", \"Dr\", \"Major\", \"Rev\", \"Sir\", \"Jonkheer\",\"Dona\",\"the Countess\"], value =\"Other\")\n",
    "titanic_test_df['Title'] = titanic_test_df['Title'].replace('Mlle', 'Miss')\n",
    "titanic_test_df['Title'] = titanic_test_df['Title'].replace('Ms', 'Miss')\n",
    "titanic_test_df['Title'] = titanic_test_df['Title'].replace('Mme', 'Mrs')\n",
    "\n",
    "titanic_test_df['Title'] = le.fit_transform(titanic_test_df['Title'])"
   ]
  },
  {
   "cell_type": "code",
   "execution_count": 18,
   "id": "82eaf441",
   "metadata": {
    "execution": {
     "iopub.execute_input": "2021-07-24T09:43:23.039646Z",
     "iopub.status.busy": "2021-07-24T09:43:23.038709Z",
     "iopub.status.idle": "2021-07-24T09:43:23.045812Z",
     "shell.execute_reply": "2021-07-24T09:43:23.046254Z",
     "shell.execute_reply.started": "2021-07-24T09:32:27.203342Z"
    },
    "id": "51YrWA0xf322",
    "outputId": "811094ad-41c1-4c0a-de48-265c092489f2",
    "papermill": {
     "duration": 0.046344,
     "end_time": "2021-07-24T09:43:23.046426",
     "exception": false,
     "start_time": "2021-07-24T09:43:23.000082",
     "status": "completed"
    },
    "tags": []
   },
   "outputs": [
    {
     "data": {
      "text/plain": [
       "687"
      ]
     },
     "execution_count": 18,
     "metadata": {},
     "output_type": "execute_result"
    }
   ],
   "source": [
    "titanic_train_df['Cabin'].isnull().sum()"
   ]
  },
  {
   "cell_type": "code",
   "execution_count": 19,
   "id": "a736d012",
   "metadata": {
    "execution": {
     "iopub.execute_input": "2021-07-24T09:43:23.122173Z",
     "iopub.status.busy": "2021-07-24T09:43:23.121208Z",
     "iopub.status.idle": "2021-07-24T09:43:23.129003Z",
     "shell.execute_reply": "2021-07-24T09:43:23.129479Z",
     "shell.execute_reply.started": "2021-07-24T09:32:27.216133Z"
    },
    "id": "-f4l9geXftOh",
    "papermill": {
     "duration": 0.047289,
     "end_time": "2021-07-24T09:43:23.129656",
     "exception": false,
     "start_time": "2021-07-24T09:43:23.082367",
     "status": "completed"
    },
    "tags": []
   },
   "outputs": [],
   "source": [
    "titanic_train_df = titanic_train_df.drop(['PassengerId','Cabin','Name','Ticket'], axis=1)\n",
    "titanic_test_df = titanic_test_df.drop(['Cabin','Name','Ticket'], axis=1)"
   ]
  },
  {
   "cell_type": "code",
   "execution_count": 20,
   "id": "5a19e7a0",
   "metadata": {
    "execution": {
     "iopub.execute_input": "2021-07-24T09:43:23.204139Z",
     "iopub.status.busy": "2021-07-24T09:43:23.203191Z",
     "iopub.status.idle": "2021-07-24T09:43:23.337385Z",
     "shell.execute_reply": "2021-07-24T09:43:23.337865Z",
     "shell.execute_reply.started": "2021-07-24T09:32:27.231236Z"
    },
    "id": "zL84Indlst6k",
    "papermill": {
     "duration": 0.173006,
     "end_time": "2021-07-24T09:43:23.338043",
     "exception": false,
     "start_time": "2021-07-24T09:43:23.165037",
     "status": "completed"
    },
    "tags": []
   },
   "outputs": [],
   "source": [
    "titanic_train_df['Fare'].fillna(titanic_train_df.groupby(['Pclass', 'Parch', 'SibSp'])['Fare'].median()[3][0][0], inplace = True)\n",
    "titanic_test_df['Fare'].fillna(titanic_test_df.groupby(['Pclass', 'Parch', 'SibSp'])['Fare'].median()[3][0][0], inplace = True)\n",
    "titanic_train_df['Embarked'].fillna('S', inplace = True)\n",
    "titanic_test_df['Embarked'].fillna('S', inplace = True)"
   ]
  },
  {
   "cell_type": "code",
   "execution_count": 21,
   "id": "bebbd486",
   "metadata": {
    "execution": {
     "iopub.execute_input": "2021-07-24T09:43:23.411860Z",
     "iopub.status.busy": "2021-07-24T09:43:23.410894Z",
     "iopub.status.idle": "2021-07-24T09:43:23.418300Z",
     "shell.execute_reply": "2021-07-24T09:43:23.418760Z",
     "shell.execute_reply.started": "2021-07-24T09:32:27.380419Z"
    },
    "id": "0FDJXGHjTGaJ",
    "papermill": {
     "duration": 0.045718,
     "end_time": "2021-07-24T09:43:23.418936",
     "exception": false,
     "start_time": "2021-07-24T09:43:23.373218",
     "status": "completed"
    },
    "tags": []
   },
   "outputs": [],
   "source": [
    "sex_mapping = {\"male\": 0, \"female\": 1}\n",
    "titanic_train_df['Sex'] = titanic_train_df['Sex'].map(sex_mapping)\n",
    "titanic_test_df['Sex'] = titanic_test_df['Sex'].map(sex_mapping)"
   ]
  },
  {
   "cell_type": "code",
   "execution_count": 22,
   "id": "3c4ceaf2",
   "metadata": {
    "execution": {
     "iopub.execute_input": "2021-07-24T09:43:23.492933Z",
     "iopub.status.busy": "2021-07-24T09:43:23.491977Z",
     "iopub.status.idle": "2021-07-24T09:43:23.499288Z",
     "shell.execute_reply": "2021-07-24T09:43:23.499741Z",
     "shell.execute_reply.started": "2021-07-24T09:32:27.389832Z"
    },
    "id": "XBMZu_FzGKd3",
    "papermill": {
     "duration": 0.045635,
     "end_time": "2021-07-24T09:43:23.499909",
     "exception": false,
     "start_time": "2021-07-24T09:43:23.454274",
     "status": "completed"
    },
    "tags": []
   },
   "outputs": [],
   "source": [
    "Embark =  {'S': 0, 'C': 1, 'Q': 2}\n",
    "titanic_train_df['Embarked'] = titanic_train_df['Embarked'].map(Embark )\n",
    "titanic_test_df['Embarked'] = titanic_test_df['Embarked'].map(Embark)"
   ]
  },
  {
   "cell_type": "code",
   "execution_count": 23,
   "id": "c5bfa472",
   "metadata": {
    "execution": {
     "iopub.execute_input": "2021-07-24T09:43:23.573717Z",
     "iopub.status.busy": "2021-07-24T09:43:23.572775Z",
     "iopub.status.idle": "2021-07-24T09:43:28.435776Z",
     "shell.execute_reply": "2021-07-24T09:43:28.435144Z",
     "shell.execute_reply.started": "2021-07-24T09:32:27.406172Z"
    },
    "id": "bbxPRJ0Aoqdn",
    "papermill": {
     "duration": 4.901009,
     "end_time": "2021-07-24T09:43:28.435951",
     "exception": false,
     "start_time": "2021-07-24T09:43:23.534942",
     "status": "completed"
    },
    "tags": []
   },
   "outputs": [],
   "source": [
    "# split data\n",
    "train = titanic_train_df.loc[(titanic_train_df.Age.notnull())]  # known age values\n",
    "test = titanic_train_df.loc[(titanic_train_df.Age.isnull())]  # all nan age values\n",
    "\n",
    "# select age column\n",
    "y = train.values[:,3]\n",
    "\n",
    "# select pclass and sex\n",
    "X = train.values[:, [1, 2, 8]]\n",
    "\n",
    "# create RandomForestRegressor model\n",
    "rfr = RandomForestRegressor(n_estimators=2000, n_jobs=-1)\n",
    "\n",
    "# Fit a model\n",
    "rfr.fit(X, y)\n",
    "\n",
    "# Use the fitted model to predict the missing values\n",
    "predictedAges = rfr.predict(test.values[:, [1, 2,8]])\n",
    "\n",
    "# create predicted age column\n",
    "titanic_train_df['pred_age'] = titanic_train_df.Age\n",
    "\n",
    "# fill column\n",
    "titanic_train_df.loc[(titanic_train_df.pred_age.isnull()), 'pred_age'] = predictedAges "
   ]
  },
  {
   "cell_type": "code",
   "execution_count": 24,
   "id": "d47b9341",
   "metadata": {
    "execution": {
     "iopub.execute_input": "2021-07-24T09:43:28.526367Z",
     "iopub.status.busy": "2021-07-24T09:43:28.518157Z",
     "iopub.status.idle": "2021-07-24T09:43:33.524320Z",
     "shell.execute_reply": "2021-07-24T09:43:33.523638Z",
     "shell.execute_reply.started": "2021-07-24T09:32:32.603194Z"
    },
    "id": "r2eiaar3WS8R",
    "papermill": {
     "duration": 5.052719,
     "end_time": "2021-07-24T09:43:33.524463",
     "exception": false,
     "start_time": "2021-07-24T09:43:28.471744",
     "status": "completed"
    },
    "tags": []
   },
   "outputs": [],
   "source": [
    "# split data\n",
    "train = titanic_test_df.loc[(titanic_test_df.Age.notnull())]  # known age values\n",
    "test = titanic_test_df.loc[(titanic_test_df.Age.isnull())]  # all nan age values\n",
    "\n",
    "# select age column\n",
    "y = train.values[:,3]\n",
    "\n",
    "# select pclass and sex\n",
    "X = train.values[:, [1, 2, 8]]\n",
    "\n",
    "# create RandomForestRegressor model\n",
    "rfr = RandomForestRegressor(n_estimators=2000, n_jobs=-1)\n",
    "\n",
    "# Fit a model\n",
    "rfr.fit(X, y)\n",
    "\n",
    "# Use the fitted model to predict the missing values\n",
    "predictedAges = rfr.predict(test.values[:, [1, 2,8]])\n",
    "\n",
    "# create predicted age column\n",
    "titanic_test_df['pred_age'] = titanic_test_df.Age\n",
    "\n",
    "# fill column\n",
    "titanic_test_df.loc[(titanic_test_df.pred_age.isnull()), 'pred_age'] = predictedAges "
   ]
  },
  {
   "cell_type": "code",
   "execution_count": 25,
   "id": "240a824a",
   "metadata": {
    "execution": {
     "iopub.execute_input": "2021-07-24T09:43:33.602680Z",
     "iopub.status.busy": "2021-07-24T09:43:33.601995Z",
     "iopub.status.idle": "2021-07-24T09:43:33.606345Z",
     "shell.execute_reply": "2021-07-24T09:43:33.605811Z",
     "shell.execute_reply.started": "2021-07-24T09:32:37.374502Z"
    },
    "id": "NqjO8kM6lNz4",
    "outputId": "d389e4aa-3a99-4ccd-f066-2b3b7ba8ebb9",
    "papermill": {
     "duration": 0.045811,
     "end_time": "2021-07-24T09:43:33.606492",
     "exception": false,
     "start_time": "2021-07-24T09:43:33.560681",
     "status": "completed"
    },
    "tags": []
   },
   "outputs": [
    {
     "data": {
      "text/plain": [
       "80.0"
      ]
     },
     "execution_count": 25,
     "metadata": {},
     "output_type": "execute_result"
    }
   ],
   "source": [
    "titanic_train_df['Age'].max()"
   ]
  },
  {
   "cell_type": "code",
   "execution_count": 26,
   "id": "f0bcb90e",
   "metadata": {
    "execution": {
     "iopub.execute_input": "2021-07-24T09:43:33.683388Z",
     "iopub.status.busy": "2021-07-24T09:43:33.682785Z",
     "iopub.status.idle": "2021-07-24T09:43:33.685241Z",
     "shell.execute_reply": "2021-07-24T09:43:33.685761Z",
     "shell.execute_reply.started": "2021-07-24T09:32:37.387253Z"
    },
    "id": "v3_LIoh5iZnT",
    "papermill": {
     "duration": 0.043261,
     "end_time": "2021-07-24T09:43:33.685932",
     "exception": false,
     "start_time": "2021-07-24T09:43:33.642671",
     "status": "completed"
    },
    "tags": []
   },
   "outputs": [],
   "source": [
    "bins= [0,2,4,13,20,35,66, 120]\n",
    "#labels = ['Infant','Toddler','Kid','Teen','Adult','Older','Senior Citizens']\n",
    "labels = ['0','1','2','3','4','5','6']"
   ]
  },
  {
   "cell_type": "code",
   "execution_count": 27,
   "id": "e161943a",
   "metadata": {
    "execution": {
     "iopub.execute_input": "2021-07-24T09:43:33.769853Z",
     "iopub.status.busy": "2021-07-24T09:43:33.765512Z",
     "iopub.status.idle": "2021-07-24T09:43:33.773042Z",
     "shell.execute_reply": "2021-07-24T09:43:33.772507Z",
     "shell.execute_reply.started": "2021-07-24T09:32:37.395301Z"
    },
    "id": "OV_EWf1BTU15",
    "papermill": {
     "duration": 0.051067,
     "end_time": "2021-07-24T09:43:33.773185",
     "exception": false,
     "start_time": "2021-07-24T09:43:33.722118",
     "status": "completed"
    },
    "tags": []
   },
   "outputs": [],
   "source": [
    "titanic_train_df['AgeGroup'] = pd.cut(titanic_train_df['pred_age'], bins=bins, labels=labels, right=False)\n",
    "titanic_test_df['AgeGroup'] = pd.cut(titanic_test_df['pred_age'], bins=bins, labels=labels, right=False)"
   ]
  },
  {
   "cell_type": "code",
   "execution_count": 28,
   "id": "1d3cbca7",
   "metadata": {
    "execution": {
     "iopub.execute_input": "2021-07-24T09:43:33.884338Z",
     "iopub.status.busy": "2021-07-24T09:43:33.859276Z",
     "iopub.status.idle": "2021-07-24T09:43:34.090195Z",
     "shell.execute_reply": "2021-07-24T09:43:34.089145Z",
     "shell.execute_reply.started": "2021-07-24T09:32:37.413251Z"
    },
    "id": "ydVv5bRLEK-z",
    "outputId": "12840c97-1154-42bf-f200-72ebfa80c669",
    "papermill": {
     "duration": 0.281876,
     "end_time": "2021-07-24T09:43:34.090352",
     "exception": false,
     "start_time": "2021-07-24T09:43:33.808476",
     "status": "completed"
    },
    "tags": []
   },
   "outputs": [
    {
     "data": {
      "image/png": "[encoded data removed]",
      "text/plain": [
       "<Figure size 720x360 with 1 Axes>"
      ]
     },
     "metadata": {
      "needs_background": "light"
     },
     "output_type": "display_data"
    }
   ],
   "source": [
    "BuiltBarGraph(titanic_train_df,'AgeGroup')"
   ]
  },
  {
   "cell_type": "code",
   "execution_count": 29,
   "id": "e39fd05a",
   "metadata": {
    "execution": {
     "iopub.execute_input": "2021-07-24T09:43:34.170424Z",
     "iopub.status.busy": "2021-07-24T09:43:34.169751Z",
     "iopub.status.idle": "2021-07-24T09:43:34.175512Z",
     "shell.execute_reply": "2021-07-24T09:43:34.174971Z",
     "shell.execute_reply.started": "2021-07-24T09:32:37.704897Z"
    },
    "id": "Cna7GxQRGm2z",
    "papermill": {
     "duration": 0.048724,
     "end_time": "2021-07-24T09:43:34.175661",
     "exception": false,
     "start_time": "2021-07-24T09:43:34.126937",
     "status": "completed"
    },
    "tags": []
   },
   "outputs": [],
   "source": [
    "titanic_train_df['Fare'] = titanic_train_df['Fare'].round(0).astype(int)\n",
    "titanic_test_df['Fare'] = titanic_test_df['Fare'].round(0)"
   ]
  },
  {
   "cell_type": "code",
   "execution_count": 30,
   "id": "317ec206",
   "metadata": {
    "execution": {
     "iopub.execute_input": "2021-07-24T09:43:34.258358Z",
     "iopub.status.busy": "2021-07-24T09:43:34.257649Z",
     "iopub.status.idle": "2021-07-24T09:43:34.261127Z",
     "shell.execute_reply": "2021-07-24T09:43:34.260575Z",
     "shell.execute_reply.started": "2021-07-24T09:32:37.715133Z"
    },
    "id": "BALorAR-gNNN",
    "papermill": {
     "duration": 0.049202,
     "end_time": "2021-07-24T09:43:34.261263",
     "exception": false,
     "start_time": "2021-07-24T09:43:34.212061",
     "status": "completed"
    },
    "tags": []
   },
   "outputs": [],
   "source": [
    "titanic_train_df['TotFam'] = titanic_train_df['SibSp'] + titanic_train_df['Parch'] + 1\n",
    "titanic_test_df['TotFam'] = titanic_test_df['SibSp'] + titanic_test_df['Parch'] + 1"
   ]
  },
  {
   "cell_type": "code",
   "execution_count": 31,
   "id": "f3abaa4e",
   "metadata": {
    "execution": {
     "iopub.execute_input": "2021-07-24T09:43:34.351025Z",
     "iopub.status.busy": "2021-07-24T09:43:34.344240Z",
     "iopub.status.idle": "2021-07-24T09:43:34.356063Z",
     "shell.execute_reply": "2021-07-24T09:43:34.356549Z",
     "shell.execute_reply.started": "2021-07-24T09:32:37.728343Z"
    },
    "id": "z24KnPXWkYDZ",
    "outputId": "85accdae-eae9-4b71-89ea-7be2e16eac89",
    "papermill": {
     "duration": 0.059575,
     "end_time": "2021-07-24T09:43:34.356742",
     "exception": false,
     "start_time": "2021-07-24T09:43:34.297167",
     "status": "completed"
    },
    "tags": []
   },
   "outputs": [
    {
     "data": {
      "text/html": [
       "<div>\n",
       "<style scoped>\n",
       "    .dataframe tbody tr th:only-of-type {\n",
       "        vertical-align: middle;\n",
       "    }\n",
       "\n",
       "    .dataframe tbody tr th {\n",
       "        vertical-align: top;\n",
       "    }\n",
       "\n",
       "    .dataframe thead th {\n",
       "        text-align: right;\n",
       "    }\n",
       "</style>\n",
       "<table border=\"1\" class=\"dataframe\">\n",
       "  <thead>\n",
       "    <tr style=\"text-align: right;\">\n",
       "      <th></th>\n",
       "      <th>Survived</th>\n",
       "      <th>Pclass</th>\n",
       "      <th>Sex</th>\n",
       "      <th>Age</th>\n",
       "      <th>SibSp</th>\n",
       "      <th>Parch</th>\n",
       "      <th>Fare</th>\n",
       "      <th>Embarked</th>\n",
       "      <th>Title</th>\n",
       "      <th>pred_age</th>\n",
       "      <th>AgeGroup</th>\n",
       "      <th>TotFam</th>\n",
       "    </tr>\n",
       "  </thead>\n",
       "  <tbody>\n",
       "    <tr>\n",
       "      <th>0</th>\n",
       "      <td>0</td>\n",
       "      <td>3</td>\n",
       "      <td>0</td>\n",
       "      <td>22.0</td>\n",
       "      <td>1</td>\n",
       "      <td>0</td>\n",
       "      <td>7</td>\n",
       "      <td>0</td>\n",
       "      <td>2</td>\n",
       "      <td>22.0</td>\n",
       "      <td>4</td>\n",
       "      <td>2</td>\n",
       "    </tr>\n",
       "    <tr>\n",
       "      <th>1</th>\n",
       "      <td>1</td>\n",
       "      <td>1</td>\n",
       "      <td>1</td>\n",
       "      <td>38.0</td>\n",
       "      <td>1</td>\n",
       "      <td>0</td>\n",
       "      <td>71</td>\n",
       "      <td>1</td>\n",
       "      <td>3</td>\n",
       "      <td>38.0</td>\n",
       "      <td>5</td>\n",
       "      <td>2</td>\n",
       "    </tr>\n",
       "    <tr>\n",
       "      <th>2</th>\n",
       "      <td>1</td>\n",
       "      <td>3</td>\n",
       "      <td>1</td>\n",
       "      <td>26.0</td>\n",
       "      <td>0</td>\n",
       "      <td>0</td>\n",
       "      <td>8</td>\n",
       "      <td>0</td>\n",
       "      <td>1</td>\n",
       "      <td>26.0</td>\n",
       "      <td>4</td>\n",
       "      <td>1</td>\n",
       "    </tr>\n",
       "    <tr>\n",
       "      <th>3</th>\n",
       "      <td>1</td>\n",
       "      <td>1</td>\n",
       "      <td>1</td>\n",
       "      <td>35.0</td>\n",
       "      <td>1</td>\n",
       "      <td>0</td>\n",
       "      <td>53</td>\n",
       "      <td>0</td>\n",
       "      <td>3</td>\n",
       "      <td>35.0</td>\n",
       "      <td>5</td>\n",
       "      <td>2</td>\n",
       "    </tr>\n",
       "    <tr>\n",
       "      <th>4</th>\n",
       "      <td>0</td>\n",
       "      <td>3</td>\n",
       "      <td>0</td>\n",
       "      <td>35.0</td>\n",
       "      <td>0</td>\n",
       "      <td>0</td>\n",
       "      <td>8</td>\n",
       "      <td>0</td>\n",
       "      <td>2</td>\n",
       "      <td>35.0</td>\n",
       "      <td>5</td>\n",
       "      <td>1</td>\n",
       "    </tr>\n",
       "  </tbody>\n",
       "</table>\n",
       "</div>"
      ],
      "text/plain": [
       "   Survived  Pclass  Sex   Age  SibSp  Parch  Fare  Embarked  Title  pred_age  \\\n",
       "0         0       3    0  22.0      1      0     7         0      2      22.0   \n",
       "1         1       1    1  38.0      1      0    71         1      3      38.0   \n",
       "2         1       3    1  26.0      0      0     8         0      1      26.0   \n",
       "3         1       1    1  35.0      1      0    53         0      3      35.0   \n",
       "4         0       3    0  35.0      0      0     8         0      2      35.0   \n",
       "\n",
       "  AgeGroup  TotFam  \n",
       "0        4       2  \n",
       "1        5       2  \n",
       "2        4       1  \n",
       "3        5       2  \n",
       "4        5       1  "
      ]
     },
     "execution_count": 31,
     "metadata": {},
     "output_type": "execute_result"
    }
   ],
   "source": [
    "titanic_train_df.head()"
   ]
  },
  {
   "cell_type": "code",
   "execution_count": 32,
   "id": "6cf9cbfd",
   "metadata": {
    "execution": {
     "iopub.execute_input": "2021-07-24T09:43:34.438885Z",
     "iopub.status.busy": "2021-07-24T09:43:34.437497Z",
     "iopub.status.idle": "2021-07-24T09:43:34.442502Z",
     "shell.execute_reply": "2021-07-24T09:43:34.441874Z",
     "shell.execute_reply.started": "2021-07-24T09:32:37.760134Z"
    },
    "id": "ezQoqbQSJeU6",
    "papermill": {
     "duration": 0.049361,
     "end_time": "2021-07-24T09:43:34.442640",
     "exception": false,
     "start_time": "2021-07-24T09:43:34.393279",
     "status": "completed"
    },
    "tags": []
   },
   "outputs": [],
   "source": [
    "titanic_train_df = titanic_train_df.drop(['SibSp','Parch','Age'], axis=1)\n",
    "titanic_test_df = titanic_test_df.drop(['SibSp','Parch','Age'], axis=1)"
   ]
  },
  {
   "cell_type": "code",
   "execution_count": 33,
   "id": "4a065483",
   "metadata": {
    "execution": {
     "iopub.execute_input": "2021-07-24T09:43:34.526501Z",
     "iopub.status.busy": "2021-07-24T09:43:34.524074Z",
     "iopub.status.idle": "2021-07-24T09:43:34.532553Z",
     "shell.execute_reply": "2021-07-24T09:43:34.532040Z",
     "shell.execute_reply.started": "2021-07-24T09:32:37.771954Z"
    },
    "id": "Bgw9Q-pQGglw",
    "outputId": "74505532-94f3-42ea-df6f-3f1da277c646",
    "papermill": {
     "duration": 0.053538,
     "end_time": "2021-07-24T09:43:34.532713",
     "exception": false,
     "start_time": "2021-07-24T09:43:34.479175",
     "status": "completed"
    },
    "tags": []
   },
   "outputs": [
    {
     "data": {
      "text/plain": [
       "((891, 8), (891,), (418, 8))"
      ]
     },
     "execution_count": 33,
     "metadata": {},
     "output_type": "execute_result"
    }
   ],
   "source": [
    "X_train = titanic_train_df.drop(\"Survived\", axis=1)\n",
    "Y_train = titanic_train_df[\"Survived\"]\n",
    "X_test  = titanic_test_df.drop(\"PassengerId\", axis=1).copy()\n",
    "X_train.shape, Y_train.shape, X_test.shape"
   ]
  },
  {
   "cell_type": "code",
   "execution_count": 34,
   "id": "ebc6ce86",
   "metadata": {
    "execution": {
     "iopub.execute_input": "2021-07-24T09:43:34.617113Z",
     "iopub.status.busy": "2021-07-24T09:43:34.616181Z",
     "iopub.status.idle": "2021-07-24T09:43:34.630989Z",
     "shell.execute_reply": "2021-07-24T09:43:34.630353Z",
     "shell.execute_reply.started": "2021-07-24T09:32:37.787612Z"
    },
    "id": "rJgo3kTJGeYr",
    "outputId": "60a7d7bb-e303-436f-a8b6-7a75c1b42bbe",
    "papermill": {
     "duration": 0.061509,
     "end_time": "2021-07-24T09:43:34.631134",
     "exception": false,
     "start_time": "2021-07-24T09:43:34.569625",
     "status": "completed"
    },
    "tags": []
   },
   "outputs": [
    {
     "data": {
      "text/plain": [
       "96.97"
      ]
     },
     "execution_count": 34,
     "metadata": {},
     "output_type": "execute_result"
    }
   ],
   "source": [
    "# Decision Tree\n",
    "decision_tree = DecisionTreeClassifier()\n",
    "decision_tree.fit(X_train, Y_train)\n",
    "Y_pred = decision_tree.predict(X_test)\n",
    "acc_decision_tree = round(decision_tree.score(X_train, Y_train) * 100, 2)\n",
    "acc_decision_tree"
   ]
  },
  {
   "cell_type": "code",
   "execution_count": 35,
   "id": "ab76a0e5",
   "metadata": {
    "execution": {
     "iopub.execute_input": "2021-07-24T09:43:34.717335Z",
     "iopub.status.busy": "2021-07-24T09:43:34.716346Z",
     "iopub.status.idle": "2021-07-24T09:43:34.720884Z",
     "shell.execute_reply": "2021-07-24T09:43:34.720287Z",
     "shell.execute_reply.started": "2021-07-24T09:33:33.933245Z"
    },
    "papermill": {
     "duration": 0.052757,
     "end_time": "2021-07-24T09:43:34.721021",
     "exception": false,
     "start_time": "2021-07-24T09:43:34.668264",
     "status": "completed"
    },
    "tags": []
   },
   "outputs": [
    {
     "data": {
      "text/html": [
       "<div>\n",
       "<style scoped>\n",
       "    .dataframe tbody tr th:only-of-type {\n",
       "        vertical-align: middle;\n",
       "    }\n",
       "\n",
       "    .dataframe tbody tr th {\n",
       "        vertical-align: top;\n",
       "    }\n",
       "\n",
       "    .dataframe thead th {\n",
       "        text-align: right;\n",
       "    }\n",
       "</style>\n",
       "<table border=\"1\" class=\"dataframe\">\n",
       "  <thead>\n",
       "    <tr style=\"text-align: right;\">\n",
       "      <th></th>\n",
       "      <th>PassengerId</th>\n",
       "      <th>Survived</th>\n",
       "    </tr>\n",
       "  </thead>\n",
       "  <tbody>\n",
       "    <tr>\n",
       "      <th>0</th>\n",
       "      <td>892</td>\n",
       "      <td>0</td>\n",
       "    </tr>\n",
       "    <tr>\n",
       "      <th>1</th>\n",
       "      <td>893</td>\n",
       "      <td>0</td>\n",
       "    </tr>\n",
       "    <tr>\n",
       "      <th>2</th>\n",
       "      <td>894</td>\n",
       "      <td>1</td>\n",
       "    </tr>\n",
       "    <tr>\n",
       "      <th>3</th>\n",
       "      <td>895</td>\n",
       "      <td>1</td>\n",
       "    </tr>\n",
       "    <tr>\n",
       "      <th>4</th>\n",
       "      <td>896</td>\n",
       "      <td>1</td>\n",
       "    </tr>\n",
       "  </tbody>\n",
       "</table>\n",
       "</div>"
      ],
      "text/plain": [
       "   PassengerId  Survived\n",
       "0          892         0\n",
       "1          893         0\n",
       "2          894         1\n",
       "3          895         1\n",
       "4          896         1"
      ]
     },
     "execution_count": 35,
     "metadata": {},
     "output_type": "execute_result"
    }
   ],
   "source": [
    "#Create a  DataFrame with the passengers ids and our prediction\n",
    "submission = pd.DataFrame({'PassengerId':titanic_test_df['PassengerId'],'Survived':Y_pred})\n",
    "\n",
    "#Visualize the first 5 rows\n",
    "submission.head()"
   ]
  },
  {
   "cell_type": "code",
   "execution_count": 36,
   "id": "a359563c",
   "metadata": {
    "execution": {
     "iopub.execute_input": "2021-07-24T09:43:34.801886Z",
     "iopub.status.busy": "2021-07-24T09:43:34.801151Z",
     "iopub.status.idle": "2021-07-24T09:43:34.812008Z",
     "shell.execute_reply": "2021-07-24T09:43:34.811375Z",
     "shell.execute_reply.started": "2021-07-24T09:33:40.342018Z"
    },
    "papermill": {
     "duration": 0.053613,
     "end_time": "2021-07-24T09:43:34.812181",
     "exception": false,
     "start_time": "2021-07-24T09:43:34.758568",
     "status": "completed"
    },
    "tags": []
   },
   "outputs": [
    {
     "name": "stdout",
     "output_type": "stream",
     "text": [
      "Saved file: TitanicPredictions.csv\n"
     ]
    }
   ],
   "source": [
    "#Convert DataFrame to a csv file that can be uploaded\n",
    "#This is saved in the same directory as your notebook\n",
    "filename = 'TitanicPredictions.csv'\n",
    "\n",
    "submission.to_csv(filename,index=False)\n",
    "\n",
    "print('Saved file: ' + filename)"
   ]
  },
  {
   "cell_type": "markdown",
   "id": "292d02cb",
   "metadata": {
    "papermill": {
     "duration": 0.039178,
     "end_time": "2021-07-24T09:43:34.890573",
     "exception": false,
     "start_time": "2021-07-24T09:43:34.851395",
     "status": "completed"
    },
    "tags": []
   },
   "source": [
    "References:\n",
    "\n",
    "https://www.youtube.com/watch?v=8yZMXCaFshs\n",
    "\n",
    "https://www.kaggle.com/jlawman/complete-beginner-your-first-titanic-submission\n",
    "\n",
    "https://www.kaggle.com/startupsci/titanic-data-science-solutions\n",
    "\n",
    "https://www.kaggle.com/aymanlafaz/titanic-kaggle-solution\n",
    "\n",
    "I couldnt find one link from stackoverflow, which i refered to guess missing age"
   ]
  }
 ],
 "metadata": {
  "kernelspec": {
   "display_name": "Python 3",
   "language": "python",
   "name": "python3"
  },
  "language_info": {
   "codemirror_mode": {
    "name": "ipython",
    "version": 3
   },
   "file_extension": ".py",
   "mimetype": "text/x-python",
   "name": "python",
   "nbconvert_exporter": "python",
   "pygments_lexer": "ipython3",
   "version": "3.7.10"
  },
  "papermill": {
   "default_parameters": {},
   "duration": 25.832285,
   "end_time": "2021-07-24T09:43:35.845364",
   "environment_variables": {},
   "exception": null,
   "input_path": "__notebook__.ipynb",
   "output_path": "__notebook__.ipynb",
   "parameters": {},
   "start_time": "2021-07-24T09:43:10.013079",
   "version": "2.3.3"
  }
 },
 "nbformat": 4,
 "nbformat_minor": 5
}
