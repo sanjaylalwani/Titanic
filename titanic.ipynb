{
 "cells": [
  {
   "cell_type": "markdown",
   "id": "d6ad1c9f",
   "metadata": {
    "execution": {
     "iopub.execute_input": "2022-02-19T02:53:53.600142Z",
     "iopub.status.busy": "2022-02-19T02:53:53.599726Z",
     "iopub.status.idle": "2022-02-19T02:53:53.604463Z",
     "shell.execute_reply": "2022-02-19T02:53:53.603345Z",
     "shell.execute_reply.started": "2022-02-19T02:53:53.600098Z"
    },
    "papermill": {
     "duration": 0.054062,
     "end_time": "2022-03-02T08:40:31.064606",
     "exception": false,
     "start_time": "2022-03-02T08:40:31.010544",
     "status": "completed"
    },
    "tags": []
   },
   "source": [
    "# Introduction"
   ]
  },
  {
   "cell_type": "markdown",
   "id": "5a17f1b3",
   "metadata": {
    "papermill": {
     "duration": 0.054527,
     "end_time": "2022-03-02T08:40:31.172543",
     "exception": false,
     "start_time": "2022-03-02T08:40:31.118016",
     "status": "completed"
    },
    "tags": []
   },
   "source": [
    "**\"It Was The Ship Of Dreams.\"**\n",
    "\n",
    "This was one of the famous dialog from the Titanic movie, and it was so true.\n",
    "\n",
    "RMS Titanic was a British passenger liner, the largest ship afloat at the time she entered service. Titanic sank in the North Atlantic Ocean on 15 April 1912 after striking an iceberg during her maiden voyage from Southampton, UK, to New York City. Of the estimated 2,224 passengers and crew aboard, more than 1,500 died, which made the sinking possibly one of the deadliest for a single ship up to that time.\n",
    "I always used to wonder whether it's possible to save as many as possible people from the ship. We didn't get a chance to save them, but fortunately, this dataset provide us the opportunity to predict it :) "
   ]
  },
  {
   "cell_type": "code",
   "execution_count": 1,
   "id": "e372f92e",
   "metadata": {
    "execution": {
     "iopub.execute_input": "2022-03-02T08:40:31.300887Z",
     "iopub.status.busy": "2022-03-02T08:40:31.299174Z",
     "iopub.status.idle": "2022-03-02T08:40:32.400493Z",
     "shell.execute_reply": "2022-03-02T08:40:32.399617Z",
     "shell.execute_reply.started": "2022-03-02T08:32:03.185992Z"
    },
    "id": "DC3vAE53BT1S",
    "papermill": {
     "duration": 1.174274,
     "end_time": "2022-03-02T08:40:32.400773",
     "exception": false,
     "start_time": "2022-03-02T08:40:31.226499",
     "status": "completed"
    },
    "tags": []
   },
   "outputs": [],
   "source": [
    "import pandas as pd\n",
    "import numpy as np\n",
    "\n",
    "from sklearn.metrics import confusion_matrix\n",
    "from sklearn import preprocessing    \n",
    "le = preprocessing.LabelEncoder()\n",
    "\n",
    "import matplotlib.pyplot as plt\n",
    "from matplotlib.pyplot import figure\n",
    "import seaborn as sns\n",
    "%matplotlib inline "
   ]
  },
  {
   "cell_type": "code",
   "execution_count": 2,
   "id": "ee0fb7e4",
   "metadata": {
    "execution": {
     "iopub.execute_input": "2022-03-02T08:40:32.509117Z",
     "iopub.status.busy": "2022-03-02T08:40:32.508453Z",
     "iopub.status.idle": "2022-03-02T08:40:32.696468Z",
     "shell.execute_reply": "2022-03-02T08:40:32.697029Z",
     "shell.execute_reply.started": "2022-03-02T08:32:03.197708Z"
    },
    "papermill": {
     "duration": 0.243929,
     "end_time": "2022-03-02T08:40:32.697270",
     "exception": false,
     "start_time": "2022-03-02T08:40:32.453341",
     "status": "completed"
    },
    "tags": []
   },
   "outputs": [],
   "source": [
    "from sklearn.ensemble import RandomForestClassifier"
   ]
  },
  {
   "cell_type": "code",
   "execution_count": 3,
   "id": "fe75e190",
   "metadata": {
    "execution": {
     "iopub.execute_input": "2022-03-02T08:40:32.811824Z",
     "iopub.status.busy": "2022-03-02T08:40:32.811126Z",
     "iopub.status.idle": "2022-03-02T08:40:32.834663Z",
     "shell.execute_reply": "2022-03-02T08:40:32.834022Z",
     "shell.execute_reply.started": "2022-03-02T08:32:03.211214Z"
    },
    "id": "D1C__ejaBtx6",
    "papermill": {
     "duration": 0.083037,
     "end_time": "2022-03-02T08:40:32.834821",
     "exception": false,
     "start_time": "2022-03-02T08:40:32.751784",
     "status": "completed"
    },
    "tags": []
   },
   "outputs": [],
   "source": [
    "titanic_train_df = pd.read_csv('../input/titanic/train.csv')\n",
    "titanic_test_df  = pd.read_csv('../input/titanic/test.csv')"
   ]
  },
  {
   "cell_type": "code",
   "execution_count": 4,
   "id": "5dac6049",
   "metadata": {
    "execution": {
     "iopub.execute_input": "2022-03-02T08:40:32.943018Z",
     "iopub.status.busy": "2022-03-02T08:40:32.942365Z",
     "iopub.status.idle": "2022-03-02T08:40:32.976252Z",
     "shell.execute_reply": "2022-03-02T08:40:32.976810Z",
     "shell.execute_reply.started": "2022-03-02T08:32:03.238373Z"
    },
    "id": "ZfrFdbD8Btls",
    "outputId": "4a85575f-08ab-4109-a41e-b62ef0aa3297",
    "papermill": {
     "duration": 0.090182,
     "end_time": "2022-03-02T08:40:32.976988",
     "exception": false,
     "start_time": "2022-03-02T08:40:32.886806",
     "status": "completed"
    },
    "tags": []
   },
   "outputs": [
    {
     "data": {
      "text/html": [
       "<div>\n",
       "<style scoped>\n",
       "    .dataframe tbody tr th:only-of-type {\n",
       "        vertical-align: middle;\n",
       "    }\n",
       "\n",
       "    .dataframe tbody tr th {\n",
       "        vertical-align: top;\n",
       "    }\n",
       "\n",
       "    .dataframe thead th {\n",
       "        text-align: right;\n",
       "    }\n",
       "</style>\n",
       "<table border=\"1\" class=\"dataframe\">\n",
       "  <thead>\n",
       "    <tr style=\"text-align: right;\">\n",
       "      <th></th>\n",
       "      <th>PassengerId</th>\n",
       "      <th>Survived</th>\n",
       "      <th>Pclass</th>\n",
       "      <th>Name</th>\n",
       "      <th>Sex</th>\n",
       "      <th>Age</th>\n",
       "      <th>SibSp</th>\n",
       "      <th>Parch</th>\n",
       "      <th>Ticket</th>\n",
       "      <th>Fare</th>\n",
       "      <th>Cabin</th>\n",
       "      <th>Embarked</th>\n",
       "    </tr>\n",
       "  </thead>\n",
       "  <tbody>\n",
       "    <tr>\n",
       "      <th>0</th>\n",
       "      <td>1</td>\n",
       "      <td>0</td>\n",
       "      <td>3</td>\n",
       "      <td>Braund, Mr. Owen Harris</td>\n",
       "      <td>male</td>\n",
       "      <td>22.0</td>\n",
       "      <td>1</td>\n",
       "      <td>0</td>\n",
       "      <td>A/5 21171</td>\n",
       "      <td>7.2500</td>\n",
       "      <td>NaN</td>\n",
       "      <td>S</td>\n",
       "    </tr>\n",
       "    <tr>\n",
       "      <th>1</th>\n",
       "      <td>2</td>\n",
       "      <td>1</td>\n",
       "      <td>1</td>\n",
       "      <td>Cumings, Mrs. John Bradley (Florence Briggs Th...</td>\n",
       "      <td>female</td>\n",
       "      <td>38.0</td>\n",
       "      <td>1</td>\n",
       "      <td>0</td>\n",
       "      <td>PC 17599</td>\n",
       "      <td>71.2833</td>\n",
       "      <td>C85</td>\n",
       "      <td>C</td>\n",
       "    </tr>\n",
       "    <tr>\n",
       "      <th>2</th>\n",
       "      <td>3</td>\n",
       "      <td>1</td>\n",
       "      <td>3</td>\n",
       "      <td>Heikkinen, Miss. Laina</td>\n",
       "      <td>female</td>\n",
       "      <td>26.0</td>\n",
       "      <td>0</td>\n",
       "      <td>0</td>\n",
       "      <td>STON/O2. 3101282</td>\n",
       "      <td>7.9250</td>\n",
       "      <td>NaN</td>\n",
       "      <td>S</td>\n",
       "    </tr>\n",
       "    <tr>\n",
       "      <th>3</th>\n",
       "      <td>4</td>\n",
       "      <td>1</td>\n",
       "      <td>1</td>\n",
       "      <td>Futrelle, Mrs. Jacques Heath (Lily May Peel)</td>\n",
       "      <td>female</td>\n",
       "      <td>35.0</td>\n",
       "      <td>1</td>\n",
       "      <td>0</td>\n",
       "      <td>113803</td>\n",
       "      <td>53.1000</td>\n",
       "      <td>C123</td>\n",
       "      <td>S</td>\n",
       "    </tr>\n",
       "    <tr>\n",
       "      <th>4</th>\n",
       "      <td>5</td>\n",
       "      <td>0</td>\n",
       "      <td>3</td>\n",
       "      <td>Allen, Mr. William Henry</td>\n",
       "      <td>male</td>\n",
       "      <td>35.0</td>\n",
       "      <td>0</td>\n",
       "      <td>0</td>\n",
       "      <td>373450</td>\n",
       "      <td>8.0500</td>\n",
       "      <td>NaN</td>\n",
       "      <td>S</td>\n",
       "    </tr>\n",
       "  </tbody>\n",
       "</table>\n",
       "</div>"
      ],
      "text/plain": [
       "   PassengerId  Survived  Pclass  \\\n",
       "0            1         0       3   \n",
       "1            2         1       1   \n",
       "2            3         1       3   \n",
       "3            4         1       1   \n",
       "4            5         0       3   \n",
       "\n",
       "                                                Name     Sex   Age  SibSp  \\\n",
       "0                            Braund, Mr. Owen Harris    male  22.0      1   \n",
       "1  Cumings, Mrs. John Bradley (Florence Briggs Th...  female  38.0      1   \n",
       "2                             Heikkinen, Miss. Laina  female  26.0      0   \n",
       "3       Futrelle, Mrs. Jacques Heath (Lily May Peel)  female  35.0      1   \n",
       "4                           Allen, Mr. William Henry    male  35.0      0   \n",
       "\n",
       "   Parch            Ticket     Fare Cabin Embarked  \n",
       "0      0         A/5 21171   7.2500   NaN        S  \n",
       "1      0          PC 17599  71.2833   C85        C  \n",
       "2      0  STON/O2. 3101282   7.9250   NaN        S  \n",
       "3      0            113803  53.1000  C123        S  \n",
       "4      0            373450   8.0500   NaN        S  "
      ]
     },
     "execution_count": 4,
     "metadata": {},
     "output_type": "execute_result"
    }
   ],
   "source": [
    "titanic_train_df.head()"
   ]
  },
  {
   "cell_type": "code",
   "execution_count": 5,
   "id": "341415d5",
   "metadata": {
    "execution": {
     "iopub.execute_input": "2022-03-02T08:40:33.088141Z",
     "iopub.status.busy": "2022-03-02T08:40:33.087033Z",
     "iopub.status.idle": "2022-03-02T08:40:33.125288Z",
     "shell.execute_reply": "2022-03-02T08:40:33.125825Z",
     "shell.execute_reply.started": "2022-03-02T08:32:03.257571Z"
    },
    "id": "YVf82avvBtaj",
    "outputId": "52b7501c-37dc-4ce9-a675-1f6b7f5b7359",
    "papermill": {
     "duration": 0.096578,
     "end_time": "2022-03-02T08:40:33.126003",
     "exception": false,
     "start_time": "2022-03-02T08:40:33.029425",
     "status": "completed"
    },
    "tags": []
   },
   "outputs": [
    {
     "data": {
      "text/html": [
       "<div>\n",
       "<style scoped>\n",
       "    .dataframe tbody tr th:only-of-type {\n",
       "        vertical-align: middle;\n",
       "    }\n",
       "\n",
       "    .dataframe tbody tr th {\n",
       "        vertical-align: top;\n",
       "    }\n",
       "\n",
       "    .dataframe thead th {\n",
       "        text-align: right;\n",
       "    }\n",
       "</style>\n",
       "<table border=\"1\" class=\"dataframe\">\n",
       "  <thead>\n",
       "    <tr style=\"text-align: right;\">\n",
       "      <th></th>\n",
       "      <th>PassengerId</th>\n",
       "      <th>Survived</th>\n",
       "      <th>Pclass</th>\n",
       "      <th>Age</th>\n",
       "      <th>SibSp</th>\n",
       "      <th>Parch</th>\n",
       "      <th>Fare</th>\n",
       "    </tr>\n",
       "  </thead>\n",
       "  <tbody>\n",
       "    <tr>\n",
       "      <th>count</th>\n",
       "      <td>891.000000</td>\n",
       "      <td>891.000000</td>\n",
       "      <td>891.000000</td>\n",
       "      <td>714.000000</td>\n",
       "      <td>891.000000</td>\n",
       "      <td>891.000000</td>\n",
       "      <td>891.000000</td>\n",
       "    </tr>\n",
       "    <tr>\n",
       "      <th>mean</th>\n",
       "      <td>446.000000</td>\n",
       "      <td>0.383838</td>\n",
       "      <td>2.308642</td>\n",
       "      <td>29.699118</td>\n",
       "      <td>0.523008</td>\n",
       "      <td>0.381594</td>\n",
       "      <td>32.204208</td>\n",
       "    </tr>\n",
       "    <tr>\n",
       "      <th>std</th>\n",
       "      <td>257.353842</td>\n",
       "      <td>0.486592</td>\n",
       "      <td>0.836071</td>\n",
       "      <td>14.526497</td>\n",
       "      <td>1.102743</td>\n",
       "      <td>0.806057</td>\n",
       "      <td>49.693429</td>\n",
       "    </tr>\n",
       "    <tr>\n",
       "      <th>min</th>\n",
       "      <td>1.000000</td>\n",
       "      <td>0.000000</td>\n",
       "      <td>1.000000</td>\n",
       "      <td>0.420000</td>\n",
       "      <td>0.000000</td>\n",
       "      <td>0.000000</td>\n",
       "      <td>0.000000</td>\n",
       "    </tr>\n",
       "    <tr>\n",
       "      <th>25%</th>\n",
       "      <td>223.500000</td>\n",
       "      <td>0.000000</td>\n",
       "      <td>2.000000</td>\n",
       "      <td>20.125000</td>\n",
       "      <td>0.000000</td>\n",
       "      <td>0.000000</td>\n",
       "      <td>7.910400</td>\n",
       "    </tr>\n",
       "    <tr>\n",
       "      <th>50%</th>\n",
       "      <td>446.000000</td>\n",
       "      <td>0.000000</td>\n",
       "      <td>3.000000</td>\n",
       "      <td>28.000000</td>\n",
       "      <td>0.000000</td>\n",
       "      <td>0.000000</td>\n",
       "      <td>14.454200</td>\n",
       "    </tr>\n",
       "    <tr>\n",
       "      <th>75%</th>\n",
       "      <td>668.500000</td>\n",
       "      <td>1.000000</td>\n",
       "      <td>3.000000</td>\n",
       "      <td>38.000000</td>\n",
       "      <td>1.000000</td>\n",
       "      <td>0.000000</td>\n",
       "      <td>31.000000</td>\n",
       "    </tr>\n",
       "    <tr>\n",
       "      <th>max</th>\n",
       "      <td>891.000000</td>\n",
       "      <td>1.000000</td>\n",
       "      <td>3.000000</td>\n",
       "      <td>80.000000</td>\n",
       "      <td>8.000000</td>\n",
       "      <td>6.000000</td>\n",
       "      <td>512.329200</td>\n",
       "    </tr>\n",
       "  </tbody>\n",
       "</table>\n",
       "</div>"
      ],
      "text/plain": [
       "       PassengerId    Survived      Pclass         Age       SibSp  \\\n",
       "count   891.000000  891.000000  891.000000  714.000000  891.000000   \n",
       "mean    446.000000    0.383838    2.308642   29.699118    0.523008   \n",
       "std     257.353842    0.486592    0.836071   14.526497    1.102743   \n",
       "min       1.000000    0.000000    1.000000    0.420000    0.000000   \n",
       "25%     223.500000    0.000000    2.000000   20.125000    0.000000   \n",
       "50%     446.000000    0.000000    3.000000   28.000000    0.000000   \n",
       "75%     668.500000    1.000000    3.000000   38.000000    1.000000   \n",
       "max     891.000000    1.000000    3.000000   80.000000    8.000000   \n",
       "\n",
       "            Parch        Fare  \n",
       "count  891.000000  891.000000  \n",
       "mean     0.381594   32.204208  \n",
       "std      0.806057   49.693429  \n",
       "min      0.000000    0.000000  \n",
       "25%      0.000000    7.910400  \n",
       "50%      0.000000   14.454200  \n",
       "75%      0.000000   31.000000  \n",
       "max      6.000000  512.329200  "
      ]
     },
     "execution_count": 5,
     "metadata": {},
     "output_type": "execute_result"
    }
   ],
   "source": [
    "titanic_train_df.describe()"
   ]
  },
  {
   "cell_type": "code",
   "execution_count": 6,
   "id": "5dd326a9",
   "metadata": {
    "execution": {
     "iopub.execute_input": "2022-03-02T08:40:33.238630Z",
     "iopub.status.busy": "2022-03-02T08:40:33.237511Z",
     "iopub.status.idle": "2022-03-02T08:40:33.259366Z",
     "shell.execute_reply": "2022-03-02T08:40:33.259938Z",
     "shell.execute_reply.started": "2022-03-02T08:32:03.292158Z"
    },
    "id": "iHunsUISJMc5",
    "outputId": "ea9a1613-38d3-464c-972a-6a2281117f4f",
    "papermill": {
     "duration": 0.081523,
     "end_time": "2022-03-02T08:40:33.260118",
     "exception": false,
     "start_time": "2022-03-02T08:40:33.178595",
     "status": "completed"
    },
    "tags": []
   },
   "outputs": [
    {
     "name": "stdout",
     "output_type": "stream",
     "text": [
      "<class 'pandas.core.frame.DataFrame'>\n",
      "RangeIndex: 891 entries, 0 to 890\n",
      "Data columns (total 12 columns):\n",
      " #   Column       Non-Null Count  Dtype  \n",
      "---  ------       --------------  -----  \n",
      " 0   PassengerId  891 non-null    int64  \n",
      " 1   Survived     891 non-null    int64  \n",
      " 2   Pclass       891 non-null    int64  \n",
      " 3   Name         891 non-null    object \n",
      " 4   Sex          891 non-null    object \n",
      " 5   Age          714 non-null    float64\n",
      " 6   SibSp        891 non-null    int64  \n",
      " 7   Parch        891 non-null    int64  \n",
      " 8   Ticket       891 non-null    object \n",
      " 9   Fare         891 non-null    float64\n",
      " 10  Cabin        204 non-null    object \n",
      " 11  Embarked     889 non-null    object \n",
      "dtypes: float64(2), int64(5), object(5)\n",
      "memory usage: 83.7+ KB\n"
     ]
    }
   ],
   "source": [
    "titanic_train_df.info()"
   ]
  },
  {
   "cell_type": "code",
   "execution_count": 7,
   "id": "1559e21a",
   "metadata": {
    "execution": {
     "iopub.execute_input": "2022-03-02T08:40:33.397492Z",
     "iopub.status.busy": "2022-03-02T08:40:33.396791Z",
     "iopub.status.idle": "2022-03-02T08:40:33.412393Z",
     "shell.execute_reply": "2022-03-02T08:40:33.413302Z",
     "shell.execute_reply.started": "2022-03-02T08:32:03.309082Z"
    },
    "papermill": {
     "duration": 0.087517,
     "end_time": "2022-03-02T08:40:33.413540",
     "exception": false,
     "start_time": "2022-03-02T08:40:33.326023",
     "status": "completed"
    },
    "tags": []
   },
   "outputs": [
    {
     "name": "stdout",
     "output_type": "stream",
     "text": [
      "No.of.unique values in each column :\n",
      " PassengerId    891\n",
      "Survived         2\n",
      "Pclass           3\n",
      "Name           891\n",
      "Sex              2\n",
      "Age             88\n",
      "SibSp            7\n",
      "Parch            7\n",
      "Ticket         681\n",
      "Fare           248\n",
      "Cabin          147\n",
      "Embarked         3\n",
      "dtype: int64\n"
     ]
    }
   ],
   "source": [
    "n = titanic_train_df.nunique(axis=0)  \n",
    "print(\"No.of.unique values in each column :\\n\", n)"
   ]
  },
  {
   "cell_type": "code",
   "execution_count": 8,
   "id": "7f88cc73",
   "metadata": {
    "execution": {
     "iopub.execute_input": "2022-03-02T08:40:33.526554Z",
     "iopub.status.busy": "2022-03-02T08:40:33.525432Z",
     "iopub.status.idle": "2022-03-02T08:40:33.531868Z",
     "shell.execute_reply": "2022-03-02T08:40:33.532514Z",
     "shell.execute_reply.started": "2022-03-02T08:32:03.325098Z"
    },
    "id": "o82n0O2x7RW_",
    "outputId": "8c794341-5886-43c6-fc8d-a2fdc3da37a9",
    "papermill": {
     "duration": 0.064586,
     "end_time": "2022-03-02T08:40:33.532679",
     "exception": false,
     "start_time": "2022-03-02T08:40:33.468093",
     "status": "completed"
    },
    "tags": []
   },
   "outputs": [
    {
     "data": {
      "text/plain": [
       "(891, 12)"
      ]
     },
     "execution_count": 8,
     "metadata": {},
     "output_type": "execute_result"
    }
   ],
   "source": [
    "titanic_train_df.shape"
   ]
  },
  {
   "cell_type": "markdown",
   "id": "9b176d51",
   "metadata": {
    "papermill": {
     "duration": 0.054436,
     "end_time": "2022-03-02T08:40:33.641044",
     "exception": false,
     "start_time": "2022-03-02T08:40:33.586608",
     "status": "completed"
    },
    "tags": []
   },
   "source": [
    "# Exploratory Data Analysis(EDA)"
   ]
  },
  {
   "cell_type": "code",
   "execution_count": 9,
   "id": "ebf053ff",
   "metadata": {
    "execution": {
     "iopub.execute_input": "2022-03-02T08:40:33.753435Z",
     "iopub.status.busy": "2022-03-02T08:40:33.752290Z",
     "iopub.status.idle": "2022-03-02T08:40:34.485404Z",
     "shell.execute_reply": "2022-03-02T08:40:34.484811Z",
     "shell.execute_reply.started": "2022-03-02T08:32:03.334261Z"
    },
    "papermill": {
     "duration": 0.790868,
     "end_time": "2022-03-02T08:40:34.485554",
     "exception": false,
     "start_time": "2022-03-02T08:40:33.694686",
     "status": "completed"
    },
    "tags": []
   },
   "outputs": [
    {
     "data": {
      "image/png": "[encoded data removed]",
      "text/plain": [
       "<Figure size 720x720 with 2 Axes>"
      ]
     },
     "metadata": {
      "needs_background": "light"
     },
     "output_type": "display_data"
    }
   ],
   "source": [
    "plt.figure(figsize=(10,10))\n",
    "g=sns.heatmap(titanic_train_df.corr(),annot=True,cmap=\"YlGnBu\")"
   ]
  },
  {
   "cell_type": "code",
   "execution_count": 10,
   "id": "c947828c",
   "metadata": {
    "execution": {
     "iopub.execute_input": "2022-03-02T08:40:34.604261Z",
     "iopub.status.busy": "2022-03-02T08:40:34.603512Z",
     "iopub.status.idle": "2022-03-02T08:40:35.263397Z",
     "shell.execute_reply": "2022-03-02T08:40:35.262587Z",
     "shell.execute_reply.started": "2022-03-02T08:32:03.986423Z"
    },
    "papermill": {
     "duration": 0.721071,
     "end_time": "2022-03-02T08:40:35.263550",
     "exception": false,
     "start_time": "2022-03-02T08:40:34.542479",
     "status": "completed"
    },
    "tags": []
   },
   "outputs": [
    {
     "data": {
      "text/plain": [
       "<seaborn.axisgrid.FacetGrid at 0x7fe3f90ee290>"
      ]
     },
     "execution_count": 10,
     "metadata": {},
     "output_type": "execute_result"
    },
    {
     "data": {
      "image/png": "[encoded data removed]",
      "text/plain": [
       "<Figure size 402.375x360 with 1 Axes>"
      ]
     },
     "metadata": {
      "needs_background": "light"
     },
     "output_type": "display_data"
    }
   ],
   "source": [
    "sns.catplot(x=\"Sex\", y=\"Survived\", hue=\"Pclass\", kind=\"bar\", data=titanic_train_df)"
   ]
  },
  {
   "cell_type": "code",
   "execution_count": 11,
   "id": "e54282f8",
   "metadata": {
    "execution": {
     "iopub.execute_input": "2022-03-02T08:40:35.387703Z",
     "iopub.status.busy": "2022-03-02T08:40:35.386759Z",
     "iopub.status.idle": "2022-03-02T08:40:35.980618Z",
     "shell.execute_reply": "2022-03-02T08:40:35.981131Z",
     "shell.execute_reply.started": "2022-03-02T08:32:04.593331Z"
    },
    "papermill": {
     "duration": 0.659992,
     "end_time": "2022-03-02T08:40:35.981358",
     "exception": false,
     "start_time": "2022-03-02T08:40:35.321366",
     "status": "completed"
    },
    "tags": []
   },
   "outputs": [
    {
     "data": {
      "text/plain": [
       "<AxesSubplot:xlabel='SibSp', ylabel='Count'>"
      ]
     },
     "execution_count": 11,
     "metadata": {},
     "output_type": "execute_result"
    },
    {
     "data": {
      "image/png": "[encoded data removed]",
      "text/plain": [
       "<Figure size 432x288 with 1 Axes>"
      ]
     },
     "metadata": {
      "needs_background": "light"
     },
     "output_type": "display_data"
    }
   ],
   "source": [
    "sns.histplot(data=titanic_train_df, x=\"SibSp\", binwidth=1,hue=\"Survived\", multiple=\"stack\", kde=True)"
   ]
  },
  {
   "cell_type": "code",
   "execution_count": 12,
   "id": "15ee8ca9",
   "metadata": {
    "execution": {
     "iopub.execute_input": "2022-03-02T08:40:36.109364Z",
     "iopub.status.busy": "2022-03-02T08:40:36.108211Z",
     "iopub.status.idle": "2022-03-02T08:40:37.691775Z",
     "shell.execute_reply": "2022-03-02T08:40:37.691188Z",
     "shell.execute_reply.started": "2022-03-02T08:32:04.990048Z"
    },
    "id": "giqxKcf67s9s",
    "papermill": {
     "duration": 1.651788,
     "end_time": "2022-03-02T08:40:37.691923",
     "exception": false,
     "start_time": "2022-03-02T08:40:36.040135",
     "status": "completed"
    },
    "tags": []
   },
   "outputs": [
    {
     "data": {
      "text/plain": [
       "<seaborn.axisgrid.FacetGrid at 0x7fe3db126810>"
      ]
     },
     "execution_count": 12,
     "metadata": {},
     "output_type": "execute_result"
    },
    {
     "data": {
      "image/png": "[encoded data removed]",
      "text/plain": [
       "<Figure size 432x324 with 3 Axes>"
      ]
     },
     "metadata": {
      "needs_background": "light"
     },
     "output_type": "display_data"
    }
   ],
   "source": [
    "g = sns.catplot(x=\"Fare\", y=\"Survived\", row=\"Pclass\", kind=\"box\", orient=\"h\", height=1.5, aspect=4,\n",
    "                data=titanic_train_df.query(\"Fare > 0\"))\n",
    "g.set(xscale=\"log\")"
   ]
  },
  {
   "cell_type": "code",
   "execution_count": 13,
   "id": "099d912d",
   "metadata": {
    "execution": {
     "iopub.execute_input": "2022-03-02T08:40:37.820867Z",
     "iopub.status.busy": "2022-03-02T08:40:37.820095Z",
     "iopub.status.idle": "2022-03-02T08:40:38.020099Z",
     "shell.execute_reply": "2022-03-02T08:40:38.019532Z",
     "shell.execute_reply.started": "2022-03-02T08:32:06.712125Z"
    },
    "papermill": {
     "duration": 0.268381,
     "end_time": "2022-03-02T08:40:38.020289",
     "exception": false,
     "start_time": "2022-03-02T08:40:37.751908",
     "status": "completed"
    },
    "tags": []
   },
   "outputs": [
    {
     "data": {
      "text/plain": [
       "<AxesSubplot:xlabel='Survived', ylabel='Fare'>"
      ]
     },
     "execution_count": 13,
     "metadata": {},
     "output_type": "execute_result"
    },
    {
     "data": {
      "image/png": "[encoded data removed]",
      "text/plain": [
       "<Figure size 576x432 with 1 Axes>"
      ]
     },
     "metadata": {},
     "output_type": "display_data"
    }
   ],
   "source": [
    "sns.set(rc={'figure.figsize':(8,6)})\n",
    "sns.boxplot(x='Survived', y='Fare', data=titanic_train_df)"
   ]
  },
  {
   "cell_type": "code",
   "execution_count": 14,
   "id": "00ab7142",
   "metadata": {
    "execution": {
     "iopub.execute_input": "2022-03-02T08:40:38.157715Z",
     "iopub.status.busy": "2022-03-02T08:40:38.155254Z",
     "iopub.status.idle": "2022-03-02T08:40:38.707704Z",
     "shell.execute_reply": "2022-03-02T08:40:38.708280Z",
     "shell.execute_reply.started": "2022-03-02T08:32:06.893683Z"
    },
    "papermill": {
     "duration": 0.625446,
     "end_time": "2022-03-02T08:40:38.708464",
     "exception": false,
     "start_time": "2022-03-02T08:40:38.083018",
     "status": "completed"
    },
    "tags": []
   },
   "outputs": [
    {
     "data": {
      "text/plain": [
       "<AxesSubplot:xlabel='Age', ylabel='Fare'>"
      ]
     },
     "execution_count": 14,
     "metadata": {},
     "output_type": "execute_result"
    },
    {
     "data": {
      "image/png": "[encoded data removed]",
      "text/plain": [
       "<Figure size 576x432 with 1 Axes>"
      ]
     },
     "metadata": {},
     "output_type": "display_data"
    }
   ],
   "source": [
    "sns.scatterplot(data=titanic_train_df, x='Age', y='Fare',hue=\"Survived\",\n",
    "                size='Sex', sizes=(20, 60), legend=\"full\")"
   ]
  },
  {
   "cell_type": "code",
   "execution_count": 15,
   "id": "cb34ef90",
   "metadata": {
    "execution": {
     "iopub.execute_input": "2022-03-02T08:40:38.838523Z",
     "iopub.status.busy": "2022-03-02T08:40:38.837852Z",
     "iopub.status.idle": "2022-03-02T08:40:39.347021Z",
     "shell.execute_reply": "2022-03-02T08:40:39.346428Z",
     "shell.execute_reply.started": "2022-03-02T08:32:07.362434Z"
    },
    "papermill": {
     "duration": 0.575098,
     "end_time": "2022-03-02T08:40:39.347186",
     "exception": false,
     "start_time": "2022-03-02T08:40:38.772088",
     "status": "completed"
    },
    "tags": []
   },
   "outputs": [
    {
     "data": {
      "text/plain": [
       "<AxesSubplot:xlabel='Age', ylabel='Count'>"
      ]
     },
     "execution_count": 15,
     "metadata": {},
     "output_type": "execute_result"
    },
    {
     "data": {
      "image/png": "[encoded data removed]",
      "text/plain": [
       "<Figure size 576x432 with 1 Axes>"
      ]
     },
     "metadata": {},
     "output_type": "display_data"
    }
   ],
   "source": [
    "sns.histplot(data=titanic_train_df, x=\"Age\", binwidth=5,hue=\"Survived\", multiple=\"stack\", kde=True)"
   ]
  },
  {
   "cell_type": "markdown",
   "id": "50871641",
   "metadata": {
    "papermill": {
     "duration": 0.064292,
     "end_time": "2022-03-02T08:40:39.478586",
     "exception": false,
     "start_time": "2022-03-02T08:40:39.414294",
     "status": "completed"
    },
    "tags": []
   },
   "source": [
    "Lets start with **Title** column, as we see there are multiple Title, which may depict same values, so its better we do text correct. Ex. Ms and Miss both are same. Mme actual meaning is Mrs. Other values may not help us in algorithm, its better we convert these values to one value. I have used 'Other'"
   ]
  },
  {
   "cell_type": "markdown",
   "id": "19ebceea",
   "metadata": {
    "papermill": {
     "duration": 0.06337,
     "end_time": "2022-03-02T08:40:39.607944",
     "exception": false,
     "start_time": "2022-03-02T08:40:39.544574",
     "status": "completed"
    },
    "tags": []
   },
   "source": [
    "# Feature Engineering"
   ]
  },
  {
   "cell_type": "markdown",
   "id": "92b6c0a6",
   "metadata": {
    "papermill": {
     "duration": 0.063872,
     "end_time": "2022-03-02T08:40:39.735283",
     "exception": false,
     "start_time": "2022-03-02T08:40:39.671411",
     "status": "completed"
    },
    "tags": []
   },
   "source": [
    "We have 3 entries with Ticket fare more than 500, as we dont have lot of rows. We can handle this outlier rather than removing it. I have taken mean of Fare, and assigned it to outlier"
   ]
  },
  {
   "cell_type": "code",
   "execution_count": 16,
   "id": "38e2e3c1",
   "metadata": {
    "execution": {
     "iopub.execute_input": "2022-03-02T08:40:39.870366Z",
     "iopub.status.busy": "2022-03-02T08:40:39.869619Z",
     "iopub.status.idle": "2022-03-02T08:40:39.875320Z",
     "shell.execute_reply": "2022-03-02T08:40:39.875896Z",
     "shell.execute_reply.started": "2022-03-02T08:32:07.801855Z"
    },
    "papermill": {
     "duration": 0.074978,
     "end_time": "2022-03-02T08:40:39.876055",
     "exception": false,
     "start_time": "2022-03-02T08:40:39.801077",
     "status": "completed"
    },
    "tags": []
   },
   "outputs": [],
   "source": [
    "titanic_train_df.loc[titanic_train_df['Fare'] > 500, 'Fare'] = titanic_train_df['Fare'].mean()"
   ]
  },
  {
   "cell_type": "code",
   "execution_count": 17,
   "id": "75f0f904",
   "metadata": {
    "execution": {
     "iopub.execute_input": "2022-03-02T08:40:40.007662Z",
     "iopub.status.busy": "2022-03-02T08:40:40.006984Z",
     "iopub.status.idle": "2022-03-02T08:40:40.011673Z",
     "shell.execute_reply": "2022-03-02T08:40:40.012298Z",
     "shell.execute_reply.started": "2022-03-02T08:32:07.811211Z"
    },
    "id": "EKOMpKLNBthv",
    "papermill": {
     "duration": 0.072059,
     "end_time": "2022-03-02T08:40:40.012463",
     "exception": false,
     "start_time": "2022-03-02T08:40:39.940404",
     "status": "completed"
    },
    "tags": []
   },
   "outputs": [],
   "source": [
    "def findtitle(line):   \n",
    "    splitLine = line.split(',')\n",
    "    name = splitLine[1].split('.')\n",
    "    title = name[0].strip()\n",
    "    return title"
   ]
  },
  {
   "cell_type": "code",
   "execution_count": 18,
   "id": "8af2b8ec",
   "metadata": {
    "execution": {
     "iopub.execute_input": "2022-03-02T08:40:40.143744Z",
     "iopub.status.busy": "2022-03-02T08:40:40.143019Z",
     "iopub.status.idle": "2022-03-02T08:40:40.150799Z",
     "shell.execute_reply": "2022-03-02T08:40:40.151455Z",
     "shell.execute_reply.started": "2022-03-02T08:32:07.823439Z"
    },
    "id": "9hbCrG-EJCyf",
    "papermill": {
     "duration": 0.07485,
     "end_time": "2022-03-02T08:40:40.151671",
     "exception": false,
     "start_time": "2022-03-02T08:40:40.076821",
     "status": "completed"
    },
    "tags": []
   },
   "outputs": [],
   "source": [
    "titanic_train_df['Title'] = titanic_train_df['Name'].apply(findtitle)\n",
    "titanic_test_df['Title'] = titanic_test_df['Name'].apply(findtitle)"
   ]
  },
  {
   "cell_type": "code",
   "execution_count": 19,
   "id": "516655ca",
   "metadata": {
    "execution": {
     "iopub.execute_input": "2022-03-02T08:40:40.284521Z",
     "iopub.status.busy": "2022-03-02T08:40:40.283850Z",
     "iopub.status.idle": "2022-03-02T08:40:40.290300Z",
     "shell.execute_reply": "2022-03-02T08:40:40.290947Z",
     "shell.execute_reply.started": "2022-03-02T08:32:07.842665Z"
    },
    "id": "8pwn5aieJOWv",
    "outputId": "939ec70e-fc25-4c6f-be34-f3f6f2b9f7e4",
    "papermill": {
     "duration": 0.074925,
     "end_time": "2022-03-02T08:40:40.291122",
     "exception": false,
     "start_time": "2022-03-02T08:40:40.216197",
     "status": "completed"
    },
    "tags": []
   },
   "outputs": [
    {
     "data": {
      "text/plain": [
       "array(['Mr', 'Mrs', 'Miss', 'Master', 'Don', 'Rev', 'Dr', 'Mme', 'Ms',\n",
       "       'Major', 'Lady', 'Sir', 'Mlle', 'Col', 'Capt', 'the Countess',\n",
       "       'Jonkheer'], dtype=object)"
      ]
     },
     "execution_count": 19,
     "metadata": {},
     "output_type": "execute_result"
    }
   ],
   "source": [
    "titanic_train_df['Title'].unique()"
   ]
  },
  {
   "cell_type": "code",
   "execution_count": 20,
   "id": "08745247",
   "metadata": {
    "execution": {
     "iopub.execute_input": "2022-03-02T08:40:40.429288Z",
     "iopub.status.busy": "2022-03-02T08:40:40.428581Z",
     "iopub.status.idle": "2022-03-02T08:40:40.438536Z",
     "shell.execute_reply": "2022-03-02T08:40:40.439184Z",
     "shell.execute_reply.started": "2022-03-02T08:32:07.859701Z"
    },
    "id": "oyYThaFmQNts",
    "papermill": {
     "duration": 0.083966,
     "end_time": "2022-03-02T08:40:40.439350",
     "exception": false,
     "start_time": "2022-03-02T08:40:40.355384",
     "status": "completed"
    },
    "tags": []
   },
   "outputs": [],
   "source": [
    "titanic_train_df['Title'] = titanic_train_df['Title'].replace(to_replace =[\"Lady\", \"Countess\",\"Capt\", \"Col\",\"Don\", \"Dr\", \"Major\", \"Rev\", \"Sir\", \"Jonkheer\",\"Dona\",\"the Countess\"], value =\"Other\")\n",
    "titanic_train_df['Title'] = titanic_train_df['Title'].replace('Mlle', 'Miss')\n",
    "titanic_train_df['Title'] = titanic_train_df['Title'].replace('Ms', 'Miss')\n",
    "titanic_train_df['Title'] = titanic_train_df['Title'].replace('Mme', 'Mrs')\n"
   ]
  },
  {
   "cell_type": "code",
   "execution_count": 21,
   "id": "6101f6ae",
   "metadata": {
    "execution": {
     "iopub.execute_input": "2022-03-02T08:40:40.574784Z",
     "iopub.status.busy": "2022-03-02T08:40:40.574097Z",
     "iopub.status.idle": "2022-03-02T08:40:40.925403Z",
     "shell.execute_reply": "2022-03-02T08:40:40.924768Z",
     "shell.execute_reply.started": "2022-03-02T08:32:07.874973Z"
    },
    "papermill": {
     "duration": 0.420172,
     "end_time": "2022-03-02T08:40:40.925551",
     "exception": false,
     "start_time": "2022-03-02T08:40:40.505379",
     "status": "completed"
    },
    "tags": []
   },
   "outputs": [
    {
     "data": {
      "text/plain": [
       "<AxesSubplot:xlabel='Title', ylabel='Count'>"
      ]
     },
     "execution_count": 21,
     "metadata": {},
     "output_type": "execute_result"
    },
    {
     "data": {
      "image/png": "[encoded data removed]",
      "text/plain": [
       "<Figure size 576x432 with 1 Axes>"
      ]
     },
     "metadata": {},
     "output_type": "display_data"
    }
   ],
   "source": [
    "sns.histplot(data=titanic_train_df, x=\"Title\", binwidth=1,hue=\"Survived\", multiple=\"stack\", kde=True)"
   ]
  },
  {
   "cell_type": "code",
   "execution_count": 22,
   "id": "70bd3970",
   "metadata": {
    "execution": {
     "iopub.execute_input": "2022-03-02T08:40:41.067094Z",
     "iopub.status.busy": "2022-03-02T08:40:41.066451Z",
     "iopub.status.idle": "2022-03-02T08:40:41.068876Z",
     "shell.execute_reply": "2022-03-02T08:40:41.069510Z",
     "shell.execute_reply.started": "2022-03-02T08:32:08.187802Z"
    },
    "id": "OGCluW_FD3fL",
    "papermill": {
     "duration": 0.076038,
     "end_time": "2022-03-02T08:40:41.069677",
     "exception": false,
     "start_time": "2022-03-02T08:40:40.993639",
     "status": "completed"
    },
    "tags": []
   },
   "outputs": [],
   "source": [
    "titanic_train_df['Title'] = le.fit_transform(titanic_train_df['Title'])"
   ]
  },
  {
   "cell_type": "code",
   "execution_count": 23,
   "id": "27466fac",
   "metadata": {
    "execution": {
     "iopub.execute_input": "2022-03-02T08:40:41.206420Z",
     "iopub.status.busy": "2022-03-02T08:40:41.205733Z",
     "iopub.status.idle": "2022-03-02T08:40:41.215264Z",
     "shell.execute_reply": "2022-03-02T08:40:41.215839Z",
     "shell.execute_reply.started": "2022-03-02T08:32:08.194516Z"
    },
    "papermill": {
     "duration": 0.079455,
     "end_time": "2022-03-02T08:40:41.216000",
     "exception": false,
     "start_time": "2022-03-02T08:40:41.136545",
     "status": "completed"
    },
    "tags": []
   },
   "outputs": [],
   "source": [
    "titanic_test_df['Title'] = titanic_test_df['Title'].replace(to_replace =[\"Lady\", \"Countess\",\"Capt\", \"Col\",\"Don\", \"Dr\", \"Major\", \"Rev\", \"Sir\", \"Jonkheer\",\"Dona\",\"the Countess\"], value =\"Other\")\n",
    "titanic_test_df['Title'] = titanic_test_df['Title'].replace('Mlle', 'Miss')\n",
    "titanic_test_df['Title'] = titanic_test_df['Title'].replace('Ms', 'Miss')\n",
    "titanic_test_df['Title'] = titanic_test_df['Title'].replace('Mme', 'Mrs')"
   ]
  },
  {
   "cell_type": "code",
   "execution_count": 24,
   "id": "750e81f1",
   "metadata": {
    "execution": {
     "iopub.execute_input": "2022-03-02T08:40:41.357876Z",
     "iopub.status.busy": "2022-03-02T08:40:41.357240Z",
     "iopub.status.idle": "2022-03-02T08:40:41.361909Z",
     "shell.execute_reply": "2022-03-02T08:40:41.362566Z",
     "shell.execute_reply.started": "2022-03-02T08:32:08.209691Z"
    },
    "papermill": {
     "duration": 0.072365,
     "end_time": "2022-03-02T08:40:41.362735",
     "exception": false,
     "start_time": "2022-03-02T08:40:41.290370",
     "status": "completed"
    },
    "tags": []
   },
   "outputs": [],
   "source": [
    "titanic_test_df['Title'] = le.fit_transform(titanic_test_df['Title'])"
   ]
  },
  {
   "cell_type": "code",
   "execution_count": 25,
   "id": "d5273a0b",
   "metadata": {
    "execution": {
     "iopub.execute_input": "2022-03-02T08:40:41.497801Z",
     "iopub.status.busy": "2022-03-02T08:40:41.497035Z",
     "iopub.status.idle": "2022-03-02T08:40:41.502718Z",
     "shell.execute_reply": "2022-03-02T08:40:41.502190Z",
     "shell.execute_reply.started": "2022-03-02T08:32:08.221786Z"
    },
    "papermill": {
     "duration": 0.074146,
     "end_time": "2022-03-02T08:40:41.502870",
     "exception": false,
     "start_time": "2022-03-02T08:40:41.428724",
     "status": "completed"
    },
    "tags": []
   },
   "outputs": [],
   "source": [
    "def getTicketDetail(ticket):\n",
    "    split_data = ticket.split(\" \")\n",
    "    if len(split_data) > 1:\n",
    "        return split_data[0]\n",
    "    else:\n",
    "        return \"Other\""
   ]
  },
  {
   "cell_type": "code",
   "execution_count": 26,
   "id": "5808010c",
   "metadata": {
    "execution": {
     "iopub.execute_input": "2022-03-02T08:40:41.641538Z",
     "iopub.status.busy": "2022-03-02T08:40:41.640784Z",
     "iopub.status.idle": "2022-03-02T08:40:41.643794Z",
     "shell.execute_reply": "2022-03-02T08:40:41.643261Z",
     "shell.execute_reply.started": "2022-03-02T08:32:08.230897Z"
    },
    "papermill": {
     "duration": 0.074863,
     "end_time": "2022-03-02T08:40:41.643951",
     "exception": false,
     "start_time": "2022-03-02T08:40:41.569088",
     "status": "completed"
    },
    "tags": []
   },
   "outputs": [],
   "source": [
    "titanic_train_df['Ticket'] = titanic_train_df['Ticket'].apply(getTicketDetail)\n",
    "titanic_test_df['Ticket'] = titanic_test_df['Ticket'].apply(getTicketDetail)"
   ]
  },
  {
   "cell_type": "code",
   "execution_count": 27,
   "id": "69364a3e",
   "metadata": {
    "execution": {
     "iopub.execute_input": "2022-03-02T08:40:41.790066Z",
     "iopub.status.busy": "2022-03-02T08:40:41.789119Z",
     "iopub.status.idle": "2022-03-02T08:40:41.793725Z",
     "shell.execute_reply": "2022-03-02T08:40:41.792708Z",
     "shell.execute_reply.started": "2022-03-02T08:32:08.245337Z"
    },
    "papermill": {
     "duration": 0.083219,
     "end_time": "2022-03-02T08:40:41.793947",
     "exception": false,
     "start_time": "2022-03-02T08:40:41.710728",
     "status": "completed"
    },
    "tags": []
   },
   "outputs": [
    {
     "name": "stderr",
     "output_type": "stream",
     "text": [
      "/opt/conda/lib/python3.7/site-packages/ipykernel_launcher.py:1: FutureWarning: The default value of regex will change from True to False in a future version. In addition, single character regular expressions will*not* be treated as literal strings when regex=True.\n",
      "  \"\"\"Entry point for launching an IPython kernel.\n",
      "/opt/conda/lib/python3.7/site-packages/ipykernel_launcher.py:3: FutureWarning: The default value of regex will change from True to False in a future version. In addition, single character regular expressions will*not* be treated as literal strings when regex=True.\n",
      "  This is separate from the ipykernel package so we can avoid doing imports until\n"
     ]
    }
   ],
   "source": [
    "titanic_train_df['Ticket'] = titanic_train_df['Ticket'].str.replace(\".\",\"\")\n",
    "titanic_train_df['Ticket'] = titanic_train_df['Ticket'].str.replace(\"/\",\"\")\n",
    "titanic_test_df['Ticket'] = titanic_test_df['Ticket'].str.replace(\".\",\"\")\n",
    "titanic_test_df['Ticket'] = titanic_test_df['Ticket'].str.replace(\"/\",\"\")"
   ]
  },
  {
   "cell_type": "code",
   "execution_count": 28,
   "id": "4482b324",
   "metadata": {
    "execution": {
     "iopub.execute_input": "2022-03-02T08:40:41.933882Z",
     "iopub.status.busy": "2022-03-02T08:40:41.933231Z",
     "iopub.status.idle": "2022-03-02T08:40:41.941553Z",
     "shell.execute_reply": "2022-03-02T08:40:41.942077Z",
     "shell.execute_reply.started": "2022-03-02T08:32:08.263473Z"
    },
    "papermill": {
     "duration": 0.078901,
     "end_time": "2022-03-02T08:40:41.942269",
     "exception": false,
     "start_time": "2022-03-02T08:40:41.863368",
     "status": "completed"
    },
    "tags": []
   },
   "outputs": [
    {
     "data": {
      "text/plain": [
       "Other      665\n",
       "PC          60\n",
       "CA          41\n",
       "A5          21\n",
       "SOTONOQ     15\n",
       "STONO       12\n",
       "WC          10\n",
       "A4           7\n",
       "SCPARIS      7\n",
       "STONO2       6\n",
       "SOC          6\n",
       "C            5\n",
       "FCC          5\n",
       "SCParis      4\n",
       "SOPP         3\n",
       "PP           3\n",
       "WEP          3\n",
       "SCAH         3\n",
       "SWPP         2\n",
       "PPP          2\n",
       "SOTONO2      2\n",
       "FC           1\n",
       "Fa           1\n",
       "SC           1\n",
       "SOP          1\n",
       "SCA4         1\n",
       "AS           1\n",
       "CASOTON      1\n",
       "SCOW         1\n",
       "SP           1\n",
       "Name: Ticket, dtype: int64"
      ]
     },
     "execution_count": 28,
     "metadata": {},
     "output_type": "execute_result"
    }
   ],
   "source": [
    "titanic_train_df['Ticket'].value_counts()"
   ]
  },
  {
   "cell_type": "code",
   "execution_count": 29,
   "id": "1c1d3b17",
   "metadata": {
    "execution": {
     "iopub.execute_input": "2022-03-02T08:40:42.081800Z",
     "iopub.status.busy": "2022-03-02T08:40:42.080483Z",
     "iopub.status.idle": "2022-03-02T08:40:42.104608Z",
     "shell.execute_reply": "2022-03-02T08:40:42.105259Z",
     "shell.execute_reply.started": "2022-03-02T08:32:08.276563Z"
    },
    "papermill": {
     "duration": 0.096292,
     "end_time": "2022-03-02T08:40:42.105510",
     "exception": false,
     "start_time": "2022-03-02T08:40:42.009218",
     "status": "completed"
    },
    "tags": []
   },
   "outputs": [],
   "source": [
    "titanic_train_df['Ticket'] = titanic_train_df['Ticket'].str.replace(\"SOTONO2\",\"SOTONOQ\")\n",
    "titanic_test_df['Ticket'] = titanic_test_df['Ticket'].str.replace(\"SOTONO2\",\"SOTONOQ\")\n",
    "titanic_train_df['Ticket'] = titanic_train_df['Ticket'].str.replace(\"CASOTON\",\"SOTONOQ\")\n",
    "titanic_test_df['Ticket'] = titanic_test_df['Ticket'].str.replace(\"CASOTON\",\"SOTONOQ\")\n",
    "\n",
    "titanic_train_df['Ticket'] = titanic_train_df['Ticket'].str.replace(\"SCAH\",\"SC\")\n",
    "titanic_test_df['Ticket'] = titanic_test_df['Ticket'].str.replace(\"SCAH\",\"SC\")\n",
    "titanic_train_df['Ticket'] = titanic_train_df['Ticket'].str.replace(\"SCA4\",\"SC\")\n",
    "titanic_test_df['Ticket'] = titanic_test_df['Ticket'].str.replace(\"SCA4\",\"SC\")\n",
    "titanic_train_df['Ticket'] = titanic_train_df['Ticket'].str.replace(\"SCAH\",\"SC\")\n",
    "titanic_test_df['Ticket'] = titanic_test_df['Ticket'].str.replace(\"SCAH\",\"SC\")\n",
    "\n",
    "titanic_train_df['Ticket'] = titanic_train_df['Ticket'].str.replace(\"SCParis\",\"SCPARIS\")\n",
    "titanic_test_df['Ticket'] = titanic_test_df['Ticket'].str.replace(\"SCParis\",\"SCPARIS\")"
   ]
  },
  {
   "cell_type": "code",
   "execution_count": 30,
   "id": "da6a60c4",
   "metadata": {
    "execution": {
     "iopub.execute_input": "2022-03-02T08:40:42.252284Z",
     "iopub.status.busy": "2022-03-02T08:40:42.251094Z",
     "iopub.status.idle": "2022-03-02T08:40:42.270287Z",
     "shell.execute_reply": "2022-03-02T08:40:42.270842Z",
     "shell.execute_reply.started": "2022-03-02T08:32:08.303266Z"
    },
    "papermill": {
     "duration": 0.096944,
     "end_time": "2022-03-02T08:40:42.271014",
     "exception": false,
     "start_time": "2022-03-02T08:40:42.174070",
     "status": "completed"
    },
    "tags": []
   },
   "outputs": [],
   "source": [
    "titanic_train_df['Ticket'] = titanic_train_df['Ticket'].str.replace(\"SP\",\"Other\")\n",
    "titanic_test_df['Ticket'] = titanic_test_df['Ticket'].str.replace(\"SP\",\"Other\")\n",
    "titanic_train_df['Ticket'] = titanic_train_df['Ticket'].str.replace(\"Fa\",\"Other\")\n",
    "titanic_test_df['Ticket'] = titanic_test_df['Ticket'].str.replace(\"Fa\",\"Other\")\n",
    "\n",
    "titanic_train_df['Ticket'] = titanic_train_df['Ticket'].str.replace(\"AS\",\"Other\")\n",
    "titanic_test_df['Ticket'] = titanic_test_df['Ticket'].str.replace(\"AS\",\"Other\")\n",
    "titanic_train_df['Ticket'] = titanic_train_df['Ticket'].str.replace(\"FC\",\"Other\")\n",
    "titanic_test_df['Ticket'] = titanic_test_df['Ticket'].str.replace(\"FC\",\"Other\")\n",
    "titanic_train_df['Ticket'] = titanic_train_df['Ticket'].str.replace(\"SCOW\",\"Other\")\n",
    "titanic_test_df['Ticket'] = titanic_test_df['Ticket'].str.replace(\"SCOW\",\"Other\")\n",
    "\n",
    "titanic_train_df['Ticket'] = titanic_train_df['Ticket'].str.replace(\"SOP\",\"Other\")\n",
    "titanic_test_df['Ticket'] = titanic_test_df['Ticket'].str.replace(\"SOP\",\"Other\")"
   ]
  },
  {
   "cell_type": "code",
   "execution_count": 31,
   "id": "3369f28e",
   "metadata": {
    "execution": {
     "iopub.execute_input": "2022-03-02T08:40:42.414583Z",
     "iopub.status.busy": "2022-03-02T08:40:42.413901Z",
     "iopub.status.idle": "2022-03-02T08:40:42.417435Z",
     "shell.execute_reply": "2022-03-02T08:40:42.416871Z",
     "shell.execute_reply.started": "2022-03-02T08:32:08.332061Z"
    },
    "papermill": {
     "duration": 0.079458,
     "end_time": "2022-03-02T08:40:42.417582",
     "exception": false,
     "start_time": "2022-03-02T08:40:42.338124",
     "status": "completed"
    },
    "tags": []
   },
   "outputs": [],
   "source": [
    "titanic_train_df['Ticket'] = le.fit_transform(titanic_train_df['Ticket'])\n",
    "titanic_test_df['Ticket'] = le.fit_transform(titanic_test_df['Ticket'])"
   ]
  },
  {
   "cell_type": "code",
   "execution_count": 32,
   "id": "c71b34fb",
   "metadata": {
    "execution": {
     "iopub.execute_input": "2022-03-02T08:40:42.586945Z",
     "iopub.status.busy": "2022-03-02T08:40:42.561506Z",
     "iopub.status.idle": "2022-03-02T08:40:43.001068Z",
     "shell.execute_reply": "2022-03-02T08:40:43.000403Z",
     "shell.execute_reply.started": "2022-03-02T08:32:08.348283Z"
    },
    "papermill": {
     "duration": 0.516108,
     "end_time": "2022-03-02T08:40:43.001243",
     "exception": false,
     "start_time": "2022-03-02T08:40:42.485135",
     "status": "completed"
    },
    "tags": []
   },
   "outputs": [
    {
     "data": {
      "text/plain": [
       "<AxesSubplot:xlabel='Ticket', ylabel='Fare'>"
      ]
     },
     "execution_count": 32,
     "metadata": {},
     "output_type": "execute_result"
    },
    {
     "data": {
      "image/png": "[encoded data removed]",
      "text/plain": [
       "<Figure size 576x432 with 1 Axes>"
      ]
     },
     "metadata": {},
     "output_type": "display_data"
    }
   ],
   "source": [
    "sns.scatterplot(data=titanic_train_df, x='Ticket', y='Fare',hue=\"Survived\", sizes=(20, 60), legend=\"full\")"
   ]
  },
  {
   "cell_type": "code",
   "execution_count": 33,
   "id": "33a6d51f",
   "metadata": {
    "execution": {
     "iopub.execute_input": "2022-03-02T08:40:43.143146Z",
     "iopub.status.busy": "2022-03-02T08:40:43.142487Z",
     "iopub.status.idle": "2022-03-02T08:40:43.146320Z",
     "shell.execute_reply": "2022-03-02T08:40:43.145705Z",
     "shell.execute_reply.started": "2022-03-02T08:32:08.738992Z"
    },
    "papermill": {
     "duration": 0.077724,
     "end_time": "2022-03-02T08:40:43.146467",
     "exception": false,
     "start_time": "2022-03-02T08:40:43.068743",
     "status": "completed"
    },
    "tags": []
   },
   "outputs": [],
   "source": [
    "def missing_percent_of_column(train_set):\n",
    "    nan_percent = 100*(train_set.isnull().sum()/len(train_set))\n",
    "    nan_percent = nan_percent[nan_percent>0].sort_values(ascending=False).round(1)\n",
    "    DataFrame = pd.DataFrame(nan_percent)\n",
    "    # Rename the columns\n",
    "    mis_percent_table = DataFrame.rename(columns = {0 : '% of Misiing Values'}) \n",
    "    # Sort the table by percentage of missing descending\n",
    "    mis_percent = mis_percent_table\n",
    "    return mis_percent"
   ]
  },
  {
   "cell_type": "code",
   "execution_count": 34,
   "id": "0c979e33",
   "metadata": {
    "execution": {
     "iopub.execute_input": "2022-03-02T08:40:43.300765Z",
     "iopub.status.busy": "2022-03-02T08:40:43.300052Z",
     "iopub.status.idle": "2022-03-02T08:40:43.305698Z",
     "shell.execute_reply": "2022-03-02T08:40:43.304728Z",
     "shell.execute_reply.started": "2022-03-02T08:32:08.746871Z"
    },
    "papermill": {
     "duration": 0.09043,
     "end_time": "2022-03-02T08:40:43.305854",
     "exception": false,
     "start_time": "2022-03-02T08:40:43.215424",
     "status": "completed"
    },
    "tags": []
   },
   "outputs": [
    {
     "data": {
      "text/html": [
       "<div>\n",
       "<style scoped>\n",
       "    .dataframe tbody tr th:only-of-type {\n",
       "        vertical-align: middle;\n",
       "    }\n",
       "\n",
       "    .dataframe tbody tr th {\n",
       "        vertical-align: top;\n",
       "    }\n",
       "\n",
       "    .dataframe thead th {\n",
       "        text-align: right;\n",
       "    }\n",
       "</style>\n",
       "<table border=\"1\" class=\"dataframe\">\n",
       "  <thead>\n",
       "    <tr style=\"text-align: right;\">\n",
       "      <th></th>\n",
       "      <th>% of Misiing Values</th>\n",
       "    </tr>\n",
       "  </thead>\n",
       "  <tbody>\n",
       "    <tr>\n",
       "      <th>Cabin</th>\n",
       "      <td>77.1</td>\n",
       "    </tr>\n",
       "    <tr>\n",
       "      <th>Age</th>\n",
       "      <td>19.9</td>\n",
       "    </tr>\n",
       "    <tr>\n",
       "      <th>Embarked</th>\n",
       "      <td>0.2</td>\n",
       "    </tr>\n",
       "  </tbody>\n",
       "</table>\n",
       "</div>"
      ],
      "text/plain": [
       "          % of Misiing Values\n",
       "Cabin                    77.1\n",
       "Age                      19.9\n",
       "Embarked                  0.2"
      ]
     },
     "execution_count": 34,
     "metadata": {},
     "output_type": "execute_result"
    }
   ],
   "source": [
    "miss = missing_percent_of_column(titanic_train_df)\n",
    "miss"
   ]
  },
  {
   "cell_type": "markdown",
   "id": "189f3c20",
   "metadata": {
    "papermill": {
     "duration": 0.079043,
     "end_time": "2022-03-02T08:40:43.461244",
     "exception": false,
     "start_time": "2022-03-02T08:40:43.382201",
     "status": "completed"
    },
    "tags": []
   },
   "source": [
    "As most of the values for **Cabin** are not present, we can drop that column.\n",
    "\n",
    "**Age** is one of the important columns, so even if almost 20% values do not exist, still we can not drop that column.\n",
    "\n",
    "**PassengerId, Name** columns won't help in deciding whether a person has survived or not, so we can drop these columns."
   ]
  },
  {
   "cell_type": "code",
   "execution_count": 35,
   "id": "b6d320c4",
   "metadata": {
    "execution": {
     "iopub.execute_input": "2022-03-02T08:40:43.623490Z",
     "iopub.status.busy": "2022-03-02T08:40:43.622410Z",
     "iopub.status.idle": "2022-03-02T08:40:43.629925Z",
     "shell.execute_reply": "2022-03-02T08:40:43.630611Z",
     "shell.execute_reply.started": "2022-03-02T08:32:08.770529Z"
    },
    "id": "-f4l9geXftOh",
    "papermill": {
     "duration": 0.090072,
     "end_time": "2022-03-02T08:40:43.630788",
     "exception": false,
     "start_time": "2022-03-02T08:40:43.540716",
     "status": "completed"
    },
    "tags": []
   },
   "outputs": [],
   "source": [
    "titanic_train_df = titanic_train_df.drop(['PassengerId','Cabin','Name'], axis=1)\n",
    "titanic_test_df = titanic_test_df.drop(['Cabin','Name'], axis=1)"
   ]
  },
  {
   "cell_type": "code",
   "execution_count": 36,
   "id": "85d7ba04",
   "metadata": {
    "execution": {
     "iopub.execute_input": "2022-03-02T08:40:43.775329Z",
     "iopub.status.busy": "2022-03-02T08:40:43.774280Z",
     "iopub.status.idle": "2022-03-02T08:40:43.794003Z",
     "shell.execute_reply": "2022-03-02T08:40:43.794630Z",
     "shell.execute_reply.started": "2022-03-02T08:32:08.782993Z"
    },
    "papermill": {
     "duration": 0.095712,
     "end_time": "2022-03-02T08:40:43.794841",
     "exception": false,
     "start_time": "2022-03-02T08:40:43.699129",
     "status": "completed"
    },
    "tags": []
   },
   "outputs": [],
   "source": [
    "titanic_train_df.Fare = titanic_train_df.groupby(['Pclass', 'Parch', 'SibSp'])['Fare'].apply(lambda x: x.fillna(x.mean()))"
   ]
  },
  {
   "cell_type": "code",
   "execution_count": 37,
   "id": "0befb270",
   "metadata": {
    "execution": {
     "iopub.execute_input": "2022-03-02T08:40:43.936811Z",
     "iopub.status.busy": "2022-03-02T08:40:43.935753Z",
     "iopub.status.idle": "2022-03-02T08:40:43.956385Z",
     "shell.execute_reply": "2022-03-02T08:40:43.956909Z",
     "shell.execute_reply.started": "2022-03-02T08:32:08.810902Z"
    },
    "papermill": {
     "duration": 0.092462,
     "end_time": "2022-03-02T08:40:43.957103",
     "exception": false,
     "start_time": "2022-03-02T08:40:43.864641",
     "status": "completed"
    },
    "tags": []
   },
   "outputs": [],
   "source": [
    "titanic_test_df.Fare = titanic_test_df.groupby(['Pclass', 'Parch', 'SibSp'])['Fare'].apply(lambda x: x.fillna(x.mean()))"
   ]
  },
  {
   "cell_type": "code",
   "execution_count": 38,
   "id": "93a9894e",
   "metadata": {
    "execution": {
     "iopub.execute_input": "2022-03-02T08:40:44.096272Z",
     "iopub.status.busy": "2022-03-02T08:40:44.095226Z",
     "iopub.status.idle": "2022-03-02T08:40:44.101305Z",
     "shell.execute_reply": "2022-03-02T08:40:44.101840Z",
     "shell.execute_reply.started": "2022-03-02T08:32:08.833693Z"
    },
    "id": "Cna7GxQRGm2z",
    "papermill": {
     "duration": 0.077222,
     "end_time": "2022-03-02T08:40:44.102005",
     "exception": false,
     "start_time": "2022-03-02T08:40:44.024783",
     "status": "completed"
    },
    "tags": []
   },
   "outputs": [],
   "source": [
    "titanic_train_df['Fare'] = titanic_train_df['Fare'].round(0).astype(int)\n",
    "titanic_test_df['Fare'] = titanic_test_df['Fare'].round(0)"
   ]
  },
  {
   "cell_type": "code",
   "execution_count": 39,
   "id": "f56b8aa2",
   "metadata": {
    "execution": {
     "iopub.execute_input": "2022-03-02T08:40:44.251112Z",
     "iopub.status.busy": "2022-03-02T08:40:44.250024Z",
     "iopub.status.idle": "2022-03-02T08:40:44.293422Z",
     "shell.execute_reply": "2022-03-02T08:40:44.292300Z",
     "shell.execute_reply.started": "2022-03-02T08:32:08.843331Z"
    },
    "papermill": {
     "duration": 0.124143,
     "end_time": "2022-03-02T08:40:44.293713",
     "exception": false,
     "start_time": "2022-03-02T08:40:44.169570",
     "status": "completed"
    },
    "tags": []
   },
   "outputs": [
    {
     "data": {
      "text/html": [
       "<div>\n",
       "<style scoped>\n",
       "    .dataframe tbody tr th:only-of-type {\n",
       "        vertical-align: middle;\n",
       "    }\n",
       "\n",
       "    .dataframe tbody tr th {\n",
       "        vertical-align: top;\n",
       "    }\n",
       "\n",
       "    .dataframe thead th {\n",
       "        text-align: right;\n",
       "    }\n",
       "</style>\n",
       "<table border=\"1\" class=\"dataframe\">\n",
       "  <thead>\n",
       "    <tr style=\"text-align: right;\">\n",
       "      <th></th>\n",
       "      <th>PassengerId</th>\n",
       "      <th>Pclass</th>\n",
       "      <th>Sex</th>\n",
       "      <th>Age</th>\n",
       "      <th>SibSp</th>\n",
       "      <th>Parch</th>\n",
       "      <th>Ticket</th>\n",
       "      <th>Fare</th>\n",
       "      <th>Title</th>\n",
       "      <th>C</th>\n",
       "      <th>Q</th>\n",
       "      <th>S</th>\n",
       "    </tr>\n",
       "  </thead>\n",
       "  <tbody>\n",
       "    <tr>\n",
       "      <th>0</th>\n",
       "      <td>892</td>\n",
       "      <td>3</td>\n",
       "      <td>male</td>\n",
       "      <td>34.5</td>\n",
       "      <td>0</td>\n",
       "      <td>0</td>\n",
       "      <td>8</td>\n",
       "      <td>8.0</td>\n",
       "      <td>2</td>\n",
       "      <td>0</td>\n",
       "      <td>1</td>\n",
       "      <td>0</td>\n",
       "    </tr>\n",
       "    <tr>\n",
       "      <th>1</th>\n",
       "      <td>893</td>\n",
       "      <td>3</td>\n",
       "      <td>female</td>\n",
       "      <td>47.0</td>\n",
       "      <td>1</td>\n",
       "      <td>0</td>\n",
       "      <td>8</td>\n",
       "      <td>7.0</td>\n",
       "      <td>3</td>\n",
       "      <td>0</td>\n",
       "      <td>0</td>\n",
       "      <td>1</td>\n",
       "    </tr>\n",
       "    <tr>\n",
       "      <th>2</th>\n",
       "      <td>894</td>\n",
       "      <td>2</td>\n",
       "      <td>male</td>\n",
       "      <td>62.0</td>\n",
       "      <td>0</td>\n",
       "      <td>0</td>\n",
       "      <td>8</td>\n",
       "      <td>10.0</td>\n",
       "      <td>2</td>\n",
       "      <td>0</td>\n",
       "      <td>1</td>\n",
       "      <td>0</td>\n",
       "    </tr>\n",
       "    <tr>\n",
       "      <th>3</th>\n",
       "      <td>895</td>\n",
       "      <td>3</td>\n",
       "      <td>male</td>\n",
       "      <td>27.0</td>\n",
       "      <td>0</td>\n",
       "      <td>0</td>\n",
       "      <td>8</td>\n",
       "      <td>9.0</td>\n",
       "      <td>2</td>\n",
       "      <td>0</td>\n",
       "      <td>0</td>\n",
       "      <td>1</td>\n",
       "    </tr>\n",
       "    <tr>\n",
       "      <th>4</th>\n",
       "      <td>896</td>\n",
       "      <td>3</td>\n",
       "      <td>female</td>\n",
       "      <td>22.0</td>\n",
       "      <td>1</td>\n",
       "      <td>1</td>\n",
       "      <td>8</td>\n",
       "      <td>12.0</td>\n",
       "      <td>3</td>\n",
       "      <td>0</td>\n",
       "      <td>0</td>\n",
       "      <td>1</td>\n",
       "    </tr>\n",
       "    <tr>\n",
       "      <th>...</th>\n",
       "      <td>...</td>\n",
       "      <td>...</td>\n",
       "      <td>...</td>\n",
       "      <td>...</td>\n",
       "      <td>...</td>\n",
       "      <td>...</td>\n",
       "      <td>...</td>\n",
       "      <td>...</td>\n",
       "      <td>...</td>\n",
       "      <td>...</td>\n",
       "      <td>...</td>\n",
       "      <td>...</td>\n",
       "    </tr>\n",
       "    <tr>\n",
       "      <th>413</th>\n",
       "      <td>1305</td>\n",
       "      <td>3</td>\n",
       "      <td>male</td>\n",
       "      <td>NaN</td>\n",
       "      <td>0</td>\n",
       "      <td>0</td>\n",
       "      <td>2</td>\n",
       "      <td>8.0</td>\n",
       "      <td>2</td>\n",
       "      <td>0</td>\n",
       "      <td>0</td>\n",
       "      <td>1</td>\n",
       "    </tr>\n",
       "    <tr>\n",
       "      <th>414</th>\n",
       "      <td>1306</td>\n",
       "      <td>1</td>\n",
       "      <td>female</td>\n",
       "      <td>39.0</td>\n",
       "      <td>0</td>\n",
       "      <td>0</td>\n",
       "      <td>11</td>\n",
       "      <td>109.0</td>\n",
       "      <td>4</td>\n",
       "      <td>1</td>\n",
       "      <td>0</td>\n",
       "      <td>0</td>\n",
       "    </tr>\n",
       "    <tr>\n",
       "      <th>415</th>\n",
       "      <td>1307</td>\n",
       "      <td>3</td>\n",
       "      <td>male</td>\n",
       "      <td>38.5</td>\n",
       "      <td>0</td>\n",
       "      <td>0</td>\n",
       "      <td>17</td>\n",
       "      <td>7.0</td>\n",
       "      <td>2</td>\n",
       "      <td>0</td>\n",
       "      <td>0</td>\n",
       "      <td>1</td>\n",
       "    </tr>\n",
       "    <tr>\n",
       "      <th>416</th>\n",
       "      <td>1308</td>\n",
       "      <td>3</td>\n",
       "      <td>male</td>\n",
       "      <td>NaN</td>\n",
       "      <td>0</td>\n",
       "      <td>0</td>\n",
       "      <td>8</td>\n",
       "      <td>8.0</td>\n",
       "      <td>2</td>\n",
       "      <td>0</td>\n",
       "      <td>0</td>\n",
       "      <td>1</td>\n",
       "    </tr>\n",
       "    <tr>\n",
       "      <th>417</th>\n",
       "      <td>1309</td>\n",
       "      <td>3</td>\n",
       "      <td>male</td>\n",
       "      <td>NaN</td>\n",
       "      <td>1</td>\n",
       "      <td>1</td>\n",
       "      <td>8</td>\n",
       "      <td>22.0</td>\n",
       "      <td>0</td>\n",
       "      <td>1</td>\n",
       "      <td>0</td>\n",
       "      <td>0</td>\n",
       "    </tr>\n",
       "  </tbody>\n",
       "</table>\n",
       "<p>418 rows × 12 columns</p>\n",
       "</div>"
      ],
      "text/plain": [
       "     PassengerId  Pclass     Sex   Age  SibSp  Parch  Ticket   Fare  Title  C  \\\n",
       "0            892       3    male  34.5      0      0       8    8.0      2  0   \n",
       "1            893       3  female  47.0      1      0       8    7.0      3  0   \n",
       "2            894       2    male  62.0      0      0       8   10.0      2  0   \n",
       "3            895       3    male  27.0      0      0       8    9.0      2  0   \n",
       "4            896       3  female  22.0      1      1       8   12.0      3  0   \n",
       "..           ...     ...     ...   ...    ...    ...     ...    ...    ... ..   \n",
       "413         1305       3    male   NaN      0      0       2    8.0      2  0   \n",
       "414         1306       1  female  39.0      0      0      11  109.0      4  1   \n",
       "415         1307       3    male  38.5      0      0      17    7.0      2  0   \n",
       "416         1308       3    male   NaN      0      0       8    8.0      2  0   \n",
       "417         1309       3    male   NaN      1      1       8   22.0      0  1   \n",
       "\n",
       "     Q  S  \n",
       "0    1  0  \n",
       "1    0  1  \n",
       "2    1  0  \n",
       "3    0  1  \n",
       "4    0  1  \n",
       "..  .. ..  \n",
       "413  0  1  \n",
       "414  0  0  \n",
       "415  0  1  \n",
       "416  0  1  \n",
       "417  0  0  \n",
       "\n",
       "[418 rows x 12 columns]"
      ]
     },
     "execution_count": 39,
     "metadata": {},
     "output_type": "execute_result"
    }
   ],
   "source": [
    "# Get one hot encoding of columns 'vehicleType'\n",
    "one_hot = pd.get_dummies(titanic_train_df['Embarked'])\n",
    "# Drop column as it is now encoded\n",
    "titanic_train_df = titanic_train_df.drop('Embarked',axis = 1)\n",
    "# Join the encoded df\n",
    "titanic_train_df = titanic_train_df.join(one_hot)\n",
    "titanic_train_df \n",
    "\n",
    "# Get one hot encoding of columns 'vehicleType'\n",
    "one_hot = pd.get_dummies(titanic_test_df['Embarked'])\n",
    "# Drop column as it is now encoded\n",
    "titanic_test_df = titanic_test_df.drop('Embarked',axis = 1)\n",
    "# Join the encoded df\n",
    "titanic_test_df = titanic_test_df.join(one_hot)\n",
    "titanic_test_df "
   ]
  },
  {
   "cell_type": "code",
   "execution_count": 40,
   "id": "b5af3901",
   "metadata": {
    "execution": {
     "iopub.execute_input": "2022-03-02T08:40:44.449220Z",
     "iopub.status.busy": "2022-03-02T08:40:44.448551Z",
     "iopub.status.idle": "2022-03-02T08:40:44.484077Z",
     "shell.execute_reply": "2022-03-02T08:40:44.484753Z",
     "shell.execute_reply.started": "2022-03-02T08:32:08.885424Z"
    },
    "papermill": {
     "duration": 0.107942,
     "end_time": "2022-03-02T08:40:44.484932",
     "exception": false,
     "start_time": "2022-03-02T08:40:44.376990",
     "status": "completed"
    },
    "tags": []
   },
   "outputs": [
    {
     "data": {
      "text/html": [
       "<div>\n",
       "<style scoped>\n",
       "    .dataframe tbody tr th:only-of-type {\n",
       "        vertical-align: middle;\n",
       "    }\n",
       "\n",
       "    .dataframe tbody tr th {\n",
       "        vertical-align: top;\n",
       "    }\n",
       "\n",
       "    .dataframe thead th {\n",
       "        text-align: right;\n",
       "    }\n",
       "</style>\n",
       "<table border=\"1\" class=\"dataframe\">\n",
       "  <thead>\n",
       "    <tr style=\"text-align: right;\">\n",
       "      <th></th>\n",
       "      <th>PassengerId</th>\n",
       "      <th>Pclass</th>\n",
       "      <th>Age</th>\n",
       "      <th>SibSp</th>\n",
       "      <th>Parch</th>\n",
       "      <th>Ticket</th>\n",
       "      <th>Fare</th>\n",
       "      <th>Title</th>\n",
       "      <th>C</th>\n",
       "      <th>Q</th>\n",
       "      <th>S</th>\n",
       "      <th>female</th>\n",
       "      <th>male</th>\n",
       "    </tr>\n",
       "  </thead>\n",
       "  <tbody>\n",
       "    <tr>\n",
       "      <th>0</th>\n",
       "      <td>892</td>\n",
       "      <td>3</td>\n",
       "      <td>34.5</td>\n",
       "      <td>0</td>\n",
       "      <td>0</td>\n",
       "      <td>8</td>\n",
       "      <td>8.0</td>\n",
       "      <td>2</td>\n",
       "      <td>0</td>\n",
       "      <td>1</td>\n",
       "      <td>0</td>\n",
       "      <td>0</td>\n",
       "      <td>1</td>\n",
       "    </tr>\n",
       "    <tr>\n",
       "      <th>1</th>\n",
       "      <td>893</td>\n",
       "      <td>3</td>\n",
       "      <td>47.0</td>\n",
       "      <td>1</td>\n",
       "      <td>0</td>\n",
       "      <td>8</td>\n",
       "      <td>7.0</td>\n",
       "      <td>3</td>\n",
       "      <td>0</td>\n",
       "      <td>0</td>\n",
       "      <td>1</td>\n",
       "      <td>1</td>\n",
       "      <td>0</td>\n",
       "    </tr>\n",
       "    <tr>\n",
       "      <th>2</th>\n",
       "      <td>894</td>\n",
       "      <td>2</td>\n",
       "      <td>62.0</td>\n",
       "      <td>0</td>\n",
       "      <td>0</td>\n",
       "      <td>8</td>\n",
       "      <td>10.0</td>\n",
       "      <td>2</td>\n",
       "      <td>0</td>\n",
       "      <td>1</td>\n",
       "      <td>0</td>\n",
       "      <td>0</td>\n",
       "      <td>1</td>\n",
       "    </tr>\n",
       "    <tr>\n",
       "      <th>3</th>\n",
       "      <td>895</td>\n",
       "      <td>3</td>\n",
       "      <td>27.0</td>\n",
       "      <td>0</td>\n",
       "      <td>0</td>\n",
       "      <td>8</td>\n",
       "      <td>9.0</td>\n",
       "      <td>2</td>\n",
       "      <td>0</td>\n",
       "      <td>0</td>\n",
       "      <td>1</td>\n",
       "      <td>0</td>\n",
       "      <td>1</td>\n",
       "    </tr>\n",
       "    <tr>\n",
       "      <th>4</th>\n",
       "      <td>896</td>\n",
       "      <td>3</td>\n",
       "      <td>22.0</td>\n",
       "      <td>1</td>\n",
       "      <td>1</td>\n",
       "      <td>8</td>\n",
       "      <td>12.0</td>\n",
       "      <td>3</td>\n",
       "      <td>0</td>\n",
       "      <td>0</td>\n",
       "      <td>1</td>\n",
       "      <td>1</td>\n",
       "      <td>0</td>\n",
       "    </tr>\n",
       "    <tr>\n",
       "      <th>...</th>\n",
       "      <td>...</td>\n",
       "      <td>...</td>\n",
       "      <td>...</td>\n",
       "      <td>...</td>\n",
       "      <td>...</td>\n",
       "      <td>...</td>\n",
       "      <td>...</td>\n",
       "      <td>...</td>\n",
       "      <td>...</td>\n",
       "      <td>...</td>\n",
       "      <td>...</td>\n",
       "      <td>...</td>\n",
       "      <td>...</td>\n",
       "    </tr>\n",
       "    <tr>\n",
       "      <th>413</th>\n",
       "      <td>1305</td>\n",
       "      <td>3</td>\n",
       "      <td>NaN</td>\n",
       "      <td>0</td>\n",
       "      <td>0</td>\n",
       "      <td>2</td>\n",
       "      <td>8.0</td>\n",
       "      <td>2</td>\n",
       "      <td>0</td>\n",
       "      <td>0</td>\n",
       "      <td>1</td>\n",
       "      <td>0</td>\n",
       "      <td>1</td>\n",
       "    </tr>\n",
       "    <tr>\n",
       "      <th>414</th>\n",
       "      <td>1306</td>\n",
       "      <td>1</td>\n",
       "      <td>39.0</td>\n",
       "      <td>0</td>\n",
       "      <td>0</td>\n",
       "      <td>11</td>\n",
       "      <td>109.0</td>\n",
       "      <td>4</td>\n",
       "      <td>1</td>\n",
       "      <td>0</td>\n",
       "      <td>0</td>\n",
       "      <td>1</td>\n",
       "      <td>0</td>\n",
       "    </tr>\n",
       "    <tr>\n",
       "      <th>415</th>\n",
       "      <td>1307</td>\n",
       "      <td>3</td>\n",
       "      <td>38.5</td>\n",
       "      <td>0</td>\n",
       "      <td>0</td>\n",
       "      <td>17</td>\n",
       "      <td>7.0</td>\n",
       "      <td>2</td>\n",
       "      <td>0</td>\n",
       "      <td>0</td>\n",
       "      <td>1</td>\n",
       "      <td>0</td>\n",
       "      <td>1</td>\n",
       "    </tr>\n",
       "    <tr>\n",
       "      <th>416</th>\n",
       "      <td>1308</td>\n",
       "      <td>3</td>\n",
       "      <td>NaN</td>\n",
       "      <td>0</td>\n",
       "      <td>0</td>\n",
       "      <td>8</td>\n",
       "      <td>8.0</td>\n",
       "      <td>2</td>\n",
       "      <td>0</td>\n",
       "      <td>0</td>\n",
       "      <td>1</td>\n",
       "      <td>0</td>\n",
       "      <td>1</td>\n",
       "    </tr>\n",
       "    <tr>\n",
       "      <th>417</th>\n",
       "      <td>1309</td>\n",
       "      <td>3</td>\n",
       "      <td>NaN</td>\n",
       "      <td>1</td>\n",
       "      <td>1</td>\n",
       "      <td>8</td>\n",
       "      <td>22.0</td>\n",
       "      <td>0</td>\n",
       "      <td>1</td>\n",
       "      <td>0</td>\n",
       "      <td>0</td>\n",
       "      <td>0</td>\n",
       "      <td>1</td>\n",
       "    </tr>\n",
       "  </tbody>\n",
       "</table>\n",
       "<p>418 rows × 13 columns</p>\n",
       "</div>"
      ],
      "text/plain": [
       "     PassengerId  Pclass   Age  SibSp  Parch  Ticket   Fare  Title  C  Q  S  \\\n",
       "0            892       3  34.5      0      0       8    8.0      2  0  1  0   \n",
       "1            893       3  47.0      1      0       8    7.0      3  0  0  1   \n",
       "2            894       2  62.0      0      0       8   10.0      2  0  1  0   \n",
       "3            895       3  27.0      0      0       8    9.0      2  0  0  1   \n",
       "4            896       3  22.0      1      1       8   12.0      3  0  0  1   \n",
       "..           ...     ...   ...    ...    ...     ...    ...    ... .. .. ..   \n",
       "413         1305       3   NaN      0      0       2    8.0      2  0  0  1   \n",
       "414         1306       1  39.0      0      0      11  109.0      4  1  0  0   \n",
       "415         1307       3  38.5      0      0      17    7.0      2  0  0  1   \n",
       "416         1308       3   NaN      0      0       8    8.0      2  0  0  1   \n",
       "417         1309       3   NaN      1      1       8   22.0      0  1  0  0   \n",
       "\n",
       "     female  male  \n",
       "0         0     1  \n",
       "1         1     0  \n",
       "2         0     1  \n",
       "3         0     1  \n",
       "4         1     0  \n",
       "..      ...   ...  \n",
       "413       0     1  \n",
       "414       1     0  \n",
       "415       0     1  \n",
       "416       0     1  \n",
       "417       0     1  \n",
       "\n",
       "[418 rows x 13 columns]"
      ]
     },
     "execution_count": 40,
     "metadata": {},
     "output_type": "execute_result"
    }
   ],
   "source": [
    "\n",
    "# Get one hot encoding of columns 'vehicleType'\n",
    "one_hot = pd.get_dummies(titanic_train_df['Sex'])\n",
    "# Drop column as it is now encoded\n",
    "titanic_train_df = titanic_train_df.drop('Sex',axis = 1)\n",
    "# Join the encoded df\n",
    "titanic_train_df = titanic_train_df.join(one_hot)\n",
    "titanic_train_df \n",
    "\n",
    "# Get one hot encoding of columns 'vehicleType'\n",
    "one_hot = pd.get_dummies(titanic_test_df['Sex'])\n",
    "# Drop column as it is now encoded\n",
    "titanic_test_df = titanic_test_df.drop('Sex',axis = 1)\n",
    "# Join the encoded df\n",
    "titanic_test_df = titanic_test_df.join(one_hot)\n",
    "titanic_test_df "
   ]
  },
  {
   "cell_type": "code",
   "execution_count": 41,
   "id": "bd074c99",
   "metadata": {
    "execution": {
     "iopub.execute_input": "2022-03-02T08:40:44.629746Z",
     "iopub.status.busy": "2022-03-02T08:40:44.629076Z",
     "iopub.status.idle": "2022-03-02T08:40:44.636407Z",
     "shell.execute_reply": "2022-03-02T08:40:44.636924Z",
     "shell.execute_reply.started": "2022-03-02T08:32:08.922765Z"
    },
    "id": "BALorAR-gNNN",
    "papermill": {
     "duration": 0.081905,
     "end_time": "2022-03-02T08:40:44.637097",
     "exception": false,
     "start_time": "2022-03-02T08:40:44.555192",
     "status": "completed"
    },
    "tags": []
   },
   "outputs": [],
   "source": [
    "titanic_train_df['TotFam'] = titanic_train_df['SibSp'] + titanic_train_df['Parch'] + 1\n",
    "titanic_test_df['TotFam'] = titanic_test_df['SibSp'] + titanic_test_df['Parch'] + 1"
   ]
  },
  {
   "cell_type": "code",
   "execution_count": 42,
   "id": "15447929",
   "metadata": {
    "execution": {
     "iopub.execute_input": "2022-03-02T08:40:44.784480Z",
     "iopub.status.busy": "2022-03-02T08:40:44.782466Z",
     "iopub.status.idle": "2022-03-02T08:40:44.786695Z",
     "shell.execute_reply": "2022-03-02T08:40:44.787361Z",
     "shell.execute_reply.started": "2022-03-02T08:32:08.932995Z"
    },
    "id": "ezQoqbQSJeU6",
    "papermill": {
     "duration": 0.081103,
     "end_time": "2022-03-02T08:40:44.787530",
     "exception": false,
     "start_time": "2022-03-02T08:40:44.706427",
     "status": "completed"
    },
    "tags": []
   },
   "outputs": [],
   "source": [
    "titanic_train_df = titanic_train_df.drop(['SibSp','Parch'], axis=1)\n",
    "titanic_test_df = titanic_test_df.drop(['SibSp','Parch'], axis=1)"
   ]
  },
  {
   "cell_type": "code",
   "execution_count": 43,
   "id": "9ad7ce54",
   "metadata": {
    "execution": {
     "iopub.execute_input": "2022-03-02T08:40:44.932431Z",
     "iopub.status.busy": "2022-03-02T08:40:44.931372Z",
     "iopub.status.idle": "2022-03-02T08:40:44.937225Z",
     "shell.execute_reply": "2022-03-02T08:40:44.937881Z",
     "shell.execute_reply.started": "2022-03-02T08:32:08.946665Z"
    },
    "papermill": {
     "duration": 0.079983,
     "end_time": "2022-03-02T08:40:44.938041",
     "exception": false,
     "start_time": "2022-03-02T08:40:44.858058",
     "status": "completed"
    },
    "tags": []
   },
   "outputs": [],
   "source": [
    "titanic_train_df['IsAlone'] = 0\n",
    "titanic_test_df['IsAlone'] = 0"
   ]
  },
  {
   "cell_type": "code",
   "execution_count": 44,
   "id": "1663d237",
   "metadata": {
    "execution": {
     "iopub.execute_input": "2022-03-02T08:40:45.081589Z",
     "iopub.status.busy": "2022-03-02T08:40:45.080444Z",
     "iopub.status.idle": "2022-03-02T08:40:45.087832Z",
     "shell.execute_reply": "2022-03-02T08:40:45.088542Z",
     "shell.execute_reply.started": "2022-03-02T08:32:08.956642Z"
    },
    "papermill": {
     "duration": 0.081078,
     "end_time": "2022-03-02T08:40:45.088750",
     "exception": false,
     "start_time": "2022-03-02T08:40:45.007672",
     "status": "completed"
    },
    "tags": []
   },
   "outputs": [],
   "source": [
    "titanic_train_df.loc[titanic_train_df['TotFam'] == 1, 'IsAlone'] = 1\n",
    "titanic_test_df.loc[titanic_test_df['TotFam'] == 1, 'IsAlone'] = 1"
   ]
  },
  {
   "cell_type": "code",
   "execution_count": 45,
   "id": "1c36b043",
   "metadata": {
    "execution": {
     "iopub.execute_input": "2022-03-02T08:40:45.233517Z",
     "iopub.status.busy": "2022-03-02T08:40:45.232465Z",
     "iopub.status.idle": "2022-03-02T08:40:45.248188Z",
     "shell.execute_reply": "2022-03-02T08:40:45.248792Z",
     "shell.execute_reply.started": "2022-03-02T08:32:08.970468Z"
    },
    "papermill": {
     "duration": 0.090707,
     "end_time": "2022-03-02T08:40:45.248977",
     "exception": false,
     "start_time": "2022-03-02T08:40:45.158270",
     "status": "completed"
    },
    "tags": []
   },
   "outputs": [],
   "source": [
    "titanic_train_df.Age = titanic_train_df.groupby(['Title'])['Age'].apply(lambda x: x.fillna(x.mean()))\n",
    "titanic_test_df.Age = titanic_test_df.groupby(['Title'])['Age'].apply(lambda x: x.fillna(x.mean()))"
   ]
  },
  {
   "cell_type": "code",
   "execution_count": 46,
   "id": "f1c4062b",
   "metadata": {
    "execution": {
     "iopub.execute_input": "2022-03-02T08:40:45.394514Z",
     "iopub.status.busy": "2022-03-02T08:40:45.393444Z",
     "iopub.status.idle": "2022-03-02T08:40:45.410923Z",
     "shell.execute_reply": "2022-03-02T08:40:45.410255Z",
     "shell.execute_reply.started": "2022-03-02T08:32:08.996141Z"
    },
    "papermill": {
     "duration": 0.091911,
     "end_time": "2022-03-02T08:40:45.411087",
     "exception": false,
     "start_time": "2022-03-02T08:40:45.319176",
     "status": "completed"
    },
    "tags": []
   },
   "outputs": [
    {
     "data": {
      "text/html": [
       "<div>\n",
       "<style scoped>\n",
       "    .dataframe tbody tr th:only-of-type {\n",
       "        vertical-align: middle;\n",
       "    }\n",
       "\n",
       "    .dataframe tbody tr th {\n",
       "        vertical-align: top;\n",
       "    }\n",
       "\n",
       "    .dataframe thead th {\n",
       "        text-align: right;\n",
       "    }\n",
       "</style>\n",
       "<table border=\"1\" class=\"dataframe\">\n",
       "  <thead>\n",
       "    <tr style=\"text-align: right;\">\n",
       "      <th></th>\n",
       "      <th>Survived</th>\n",
       "      <th>Pclass</th>\n",
       "      <th>Age</th>\n",
       "      <th>Ticket</th>\n",
       "      <th>Fare</th>\n",
       "      <th>Title</th>\n",
       "      <th>C</th>\n",
       "      <th>Q</th>\n",
       "      <th>S</th>\n",
       "      <th>female</th>\n",
       "      <th>male</th>\n",
       "      <th>TotFam</th>\n",
       "      <th>IsAlone</th>\n",
       "    </tr>\n",
       "  </thead>\n",
       "  <tbody>\n",
       "    <tr>\n",
       "      <th>0</th>\n",
       "      <td>0</td>\n",
       "      <td>3</td>\n",
       "      <td>22.0</td>\n",
       "      <td>1</td>\n",
       "      <td>7</td>\n",
       "      <td>2</td>\n",
       "      <td>0</td>\n",
       "      <td>0</td>\n",
       "      <td>1</td>\n",
       "      <td>0</td>\n",
       "      <td>1</td>\n",
       "      <td>2</td>\n",
       "      <td>0</td>\n",
       "    </tr>\n",
       "    <tr>\n",
       "      <th>1</th>\n",
       "      <td>1</td>\n",
       "      <td>1</td>\n",
       "      <td>38.0</td>\n",
       "      <td>7</td>\n",
       "      <td>71</td>\n",
       "      <td>3</td>\n",
       "      <td>1</td>\n",
       "      <td>0</td>\n",
       "      <td>0</td>\n",
       "      <td>1</td>\n",
       "      <td>0</td>\n",
       "      <td>2</td>\n",
       "      <td>0</td>\n",
       "    </tr>\n",
       "    <tr>\n",
       "      <th>2</th>\n",
       "      <td>1</td>\n",
       "      <td>3</td>\n",
       "      <td>26.0</td>\n",
       "      <td>15</td>\n",
       "      <td>8</td>\n",
       "      <td>1</td>\n",
       "      <td>0</td>\n",
       "      <td>0</td>\n",
       "      <td>1</td>\n",
       "      <td>1</td>\n",
       "      <td>0</td>\n",
       "      <td>1</td>\n",
       "      <td>1</td>\n",
       "    </tr>\n",
       "    <tr>\n",
       "      <th>3</th>\n",
       "      <td>1</td>\n",
       "      <td>1</td>\n",
       "      <td>35.0</td>\n",
       "      <td>4</td>\n",
       "      <td>53</td>\n",
       "      <td>3</td>\n",
       "      <td>0</td>\n",
       "      <td>0</td>\n",
       "      <td>1</td>\n",
       "      <td>1</td>\n",
       "      <td>0</td>\n",
       "      <td>2</td>\n",
       "      <td>0</td>\n",
       "    </tr>\n",
       "    <tr>\n",
       "      <th>4</th>\n",
       "      <td>0</td>\n",
       "      <td>3</td>\n",
       "      <td>35.0</td>\n",
       "      <td>4</td>\n",
       "      <td>8</td>\n",
       "      <td>2</td>\n",
       "      <td>0</td>\n",
       "      <td>0</td>\n",
       "      <td>1</td>\n",
       "      <td>0</td>\n",
       "      <td>1</td>\n",
       "      <td>1</td>\n",
       "      <td>1</td>\n",
       "    </tr>\n",
       "  </tbody>\n",
       "</table>\n",
       "</div>"
      ],
      "text/plain": [
       "   Survived  Pclass   Age  Ticket  Fare  Title  C  Q  S  female  male  TotFam  \\\n",
       "0         0       3  22.0       1     7      2  0  0  1       0     1       2   \n",
       "1         1       1  38.0       7    71      3  1  0  0       1     0       2   \n",
       "2         1       3  26.0      15     8      1  0  0  1       1     0       1   \n",
       "3         1       1  35.0       4    53      3  0  0  1       1     0       2   \n",
       "4         0       3  35.0       4     8      2  0  0  1       0     1       1   \n",
       "\n",
       "   IsAlone  \n",
       "0        0  \n",
       "1        0  \n",
       "2        1  \n",
       "3        0  \n",
       "4        1  "
      ]
     },
     "execution_count": 46,
     "metadata": {},
     "output_type": "execute_result"
    }
   ],
   "source": [
    "titanic_train_df.head(5)"
   ]
  },
  {
   "cell_type": "code",
   "execution_count": 47,
   "id": "3a3599c5",
   "metadata": {
    "execution": {
     "iopub.execute_input": "2022-03-02T08:40:45.563710Z",
     "iopub.status.busy": "2022-03-02T08:40:45.561701Z",
     "iopub.status.idle": "2022-03-02T08:40:45.566168Z",
     "shell.execute_reply": "2022-03-02T08:40:45.566982Z",
     "shell.execute_reply.started": "2022-03-02T08:32:09.013561Z"
    },
    "papermill": {
     "duration": 0.082888,
     "end_time": "2022-03-02T08:40:45.567145",
     "exception": false,
     "start_time": "2022-03-02T08:40:45.484257",
     "status": "completed"
    },
    "tags": []
   },
   "outputs": [],
   "source": [
    "titanic_train_df = titanic_train_df.drop(['female','Q'], axis=1)\n",
    "titanic_test_df = titanic_test_df.drop(['female','Q'], axis=1)"
   ]
  },
  {
   "cell_type": "code",
   "execution_count": 48,
   "id": "d152e4de",
   "metadata": {
    "execution": {
     "iopub.execute_input": "2022-03-02T08:40:45.713837Z",
     "iopub.status.busy": "2022-03-02T08:40:45.712703Z",
     "iopub.status.idle": "2022-03-02T08:40:45.723598Z",
     "shell.execute_reply": "2022-03-02T08:40:45.724203Z",
     "shell.execute_reply.started": "2022-03-02T08:32:09.027659Z"
    },
    "id": "Bgw9Q-pQGglw",
    "outputId": "74505532-94f3-42ea-df6f-3f1da277c646",
    "papermill": {
     "duration": 0.086129,
     "end_time": "2022-03-02T08:40:45.724367",
     "exception": false,
     "start_time": "2022-03-02T08:40:45.638238",
     "status": "completed"
    },
    "tags": []
   },
   "outputs": [
    {
     "data": {
      "text/plain": [
       "((891, 10), (891,), (418, 10))"
      ]
     },
     "execution_count": 48,
     "metadata": {},
     "output_type": "execute_result"
    }
   ],
   "source": [
    "X_train = titanic_train_df.drop(\"Survived\", axis=1)\n",
    "Y_train = titanic_train_df[\"Survived\"]\n",
    "X_test  = titanic_test_df.drop(\"PassengerId\", axis=1).copy()\n",
    "X_train.shape, Y_train.shape, X_test.shape"
   ]
  },
  {
   "cell_type": "markdown",
   "id": "b44dc2ee",
   "metadata": {
    "papermill": {
     "duration": 0.076701,
     "end_time": "2022-03-02T08:40:45.872965",
     "exception": false,
     "start_time": "2022-03-02T08:40:45.796264",
     "status": "completed"
    },
    "tags": []
   },
   "source": [
    "The MinMaxscaler is a type of scaler that transform features by scaling each feature the minimum and maximum values to be 0 and 1 respectively.\n",
    "\n",
    "You can review more details on below link,\n",
    "\n",
    "https://scikit-learn.org/stable/modules/generated/sklearn.preprocessing.MinMaxScaler.html"
   ]
  },
  {
   "cell_type": "code",
   "execution_count": 49,
   "id": "b2f2be2a",
   "metadata": {
    "execution": {
     "iopub.execute_input": "2022-03-02T08:40:46.023143Z",
     "iopub.status.busy": "2022-03-02T08:40:46.022077Z",
     "iopub.status.idle": "2022-03-02T08:40:46.034612Z",
     "shell.execute_reply": "2022-03-02T08:40:46.035275Z",
     "shell.execute_reply.started": "2022-03-02T08:32:09.042154Z"
    },
    "papermill": {
     "duration": 0.089966,
     "end_time": "2022-03-02T08:40:46.035448",
     "exception": false,
     "start_time": "2022-03-02T08:40:45.945482",
     "status": "completed"
    },
    "tags": []
   },
   "outputs": [],
   "source": [
    "# data normalization with sklearn\n",
    "from sklearn.preprocessing import MinMaxScaler\n",
    "\n",
    "# fit scaler on training data\n",
    "norm = MinMaxScaler().fit(X_train)\n",
    "\n",
    "# transform training data\n",
    "X_train = norm.transform(X_train)\n",
    "\n",
    "# transform testing dataabs\n",
    "X_test = norm.transform(X_test)"
   ]
  },
  {
   "cell_type": "markdown",
   "id": "af74695b",
   "metadata": {
    "papermill": {
     "duration": 0.073458,
     "end_time": "2022-03-02T08:40:46.182475",
     "exception": false,
     "start_time": "2022-03-02T08:40:46.109017",
     "status": "completed"
    },
    "tags": []
   },
   "source": [
    "# Model Training & Prediction"
   ]
  },
  {
   "cell_type": "markdown",
   "id": "a198b16e",
   "metadata": {
    "papermill": {
     "duration": 0.070918,
     "end_time": "2022-03-02T08:40:46.328633",
     "exception": false,
     "start_time": "2022-03-02T08:40:46.257715",
     "status": "completed"
    },
    "tags": []
   },
   "source": [
    "We will be using CatBoost alogrithm. As this is ensemble learning boosting algorithm, its performance is largly depend on hyperparameter tuning.\n",
    "Lets first do the HyperParaMeter tuning with the help of GridSearchCV."
   ]
  },
  {
   "cell_type": "code",
   "execution_count": 50,
   "id": "3718d666",
   "metadata": {
    "execution": {
     "iopub.execute_input": "2022-03-02T08:40:46.476788Z",
     "iopub.status.busy": "2022-03-02T08:40:46.475692Z",
     "iopub.status.idle": "2022-03-02T08:40:46.481090Z",
     "shell.execute_reply": "2022-03-02T08:40:46.481800Z",
     "shell.execute_reply.started": "2022-03-02T08:32:09.082579Z"
    },
    "papermill": {
     "duration": 0.081631,
     "end_time": "2022-03-02T08:40:46.481991",
     "exception": false,
     "start_time": "2022-03-02T08:40:46.400360",
     "status": "completed"
    },
    "tags": []
   },
   "outputs": [],
   "source": [
    "rfc_single = RandomForestClassifier(criterion='gini', n_estimators=1750, max_depth=7, min_samples_split=6,\n",
    "                                    min_samples_leaf=6, max_features='auto', oob_score=True, random_state=42,  n_jobs=-1,  verbose=1) "
   ]
  },
  {
   "cell_type": "code",
   "execution_count": 51,
   "id": "76512d45",
   "metadata": {
    "execution": {
     "iopub.execute_input": "2022-03-02T08:40:46.630702Z",
     "iopub.status.busy": "2022-03-02T08:40:46.629598Z",
     "iopub.status.idle": "2022-03-02T08:40:53.652012Z",
     "shell.execute_reply": "2022-03-02T08:40:53.651129Z"
    },
    "papermill": {
     "duration": 7.098877,
     "end_time": "2022-03-02T08:40:53.652276",
     "exception": false,
     "start_time": "2022-03-02T08:40:46.553399",
     "status": "completed"
    },
    "tags": []
   },
   "outputs": [
    {
     "name": "stderr",
     "output_type": "stream",
     "text": [
      "[Parallel(n_jobs=-1)]: Using backend ThreadingBackend with 4 concurrent workers.\n",
      "[Parallel(n_jobs=-1)]: Done  42 tasks      | elapsed:    0.1s\n",
      "[Parallel(n_jobs=-1)]: Done 192 tasks      | elapsed:    0.5s\n",
      "[Parallel(n_jobs=-1)]: Done 442 tasks      | elapsed:    1.1s\n",
      "[Parallel(n_jobs=-1)]: Done 792 tasks      | elapsed:    1.9s\n",
      "[Parallel(n_jobs=-1)]: Done 1242 tasks      | elapsed:    2.9s\n",
      "[Parallel(n_jobs=-1)]: Done 1750 out of 1750 | elapsed:    4.0s finished\n",
      "[Parallel(n_jobs=4)]: Using backend ThreadingBackend with 4 concurrent workers.\n",
      "[Parallel(n_jobs=4)]: Done  42 tasks      | elapsed:    0.0s\n",
      "[Parallel(n_jobs=4)]: Done 192 tasks      | elapsed:    0.1s\n",
      "[Parallel(n_jobs=4)]: Done 442 tasks      | elapsed:    0.1s\n",
      "[Parallel(n_jobs=4)]: Done 792 tasks      | elapsed:    0.3s\n",
      "[Parallel(n_jobs=4)]: Done 1242 tasks      | elapsed:    0.4s\n"
     ]
    },
    {
     "name": "stdout",
     "output_type": "stream",
     "text": [
      "Performance on train data: 0.8585858585858586\n"
     ]
    },
    {
     "name": "stderr",
     "output_type": "stream",
     "text": [
      "[Parallel(n_jobs=4)]: Done 1750 out of 1750 | elapsed:    0.6s finished\n"
     ]
    }
   ],
   "source": [
    "rfc_single.fit(X_train, Y_train)\n",
    "\n",
    "print(\"Performance on train data:\", rfc_single.score(X_train, Y_train))"
   ]
  },
  {
   "cell_type": "code",
   "execution_count": 52,
   "id": "3be3ffee",
   "metadata": {
    "execution": {
     "iopub.execute_input": "2022-03-02T08:40:53.806548Z",
     "iopub.status.busy": "2022-03-02T08:40:53.805874Z",
     "iopub.status.idle": "2022-03-02T08:40:54.416309Z",
     "shell.execute_reply": "2022-03-02T08:40:54.416846Z"
    },
    "papermill": {
     "duration": 0.689899,
     "end_time": "2022-03-02T08:40:54.417042",
     "exception": false,
     "start_time": "2022-03-02T08:40:53.727143",
     "status": "completed"
    },
    "tags": []
   },
   "outputs": [
    {
     "name": "stderr",
     "output_type": "stream",
     "text": [
      "[Parallel(n_jobs=4)]: Using backend ThreadingBackend with 4 concurrent workers.\n",
      "[Parallel(n_jobs=4)]: Done  42 tasks      | elapsed:    0.0s\n",
      "[Parallel(n_jobs=4)]: Done 192 tasks      | elapsed:    0.1s\n",
      "[Parallel(n_jobs=4)]: Done 442 tasks      | elapsed:    0.1s\n",
      "[Parallel(n_jobs=4)]: Done 792 tasks      | elapsed:    0.2s\n",
      "[Parallel(n_jobs=4)]: Done 1242 tasks      | elapsed:    0.4s\n",
      "[Parallel(n_jobs=4)]: Done 1750 out of 1750 | elapsed:    0.5s finished\n"
     ]
    }
   ],
   "source": [
    "# Get predictions\n",
    "y_pred = rfc_single.predict(X_test)"
   ]
  },
  {
   "cell_type": "code",
   "execution_count": 53,
   "id": "bd37972f",
   "metadata": {
    "execution": {
     "iopub.execute_input": "2022-03-02T08:40:54.578173Z",
     "iopub.status.busy": "2022-03-02T08:40:54.577500Z",
     "iopub.status.idle": "2022-03-02T08:40:54.581039Z",
     "shell.execute_reply": "2022-03-02T08:40:54.581637Z",
     "shell.execute_reply.started": "2022-03-02T08:32:15.893658Z"
    },
    "papermill": {
     "duration": 0.089935,
     "end_time": "2022-03-02T08:40:54.581808",
     "exception": false,
     "start_time": "2022-03-02T08:40:54.491873",
     "status": "completed"
    },
    "tags": []
   },
   "outputs": [
    {
     "data": {
      "text/html": [
       "<div>\n",
       "<style scoped>\n",
       "    .dataframe tbody tr th:only-of-type {\n",
       "        vertical-align: middle;\n",
       "    }\n",
       "\n",
       "    .dataframe tbody tr th {\n",
       "        vertical-align: top;\n",
       "    }\n",
       "\n",
       "    .dataframe thead th {\n",
       "        text-align: right;\n",
       "    }\n",
       "</style>\n",
       "<table border=\"1\" class=\"dataframe\">\n",
       "  <thead>\n",
       "    <tr style=\"text-align: right;\">\n",
       "      <th></th>\n",
       "      <th>PassengerId</th>\n",
       "      <th>Survived</th>\n",
       "    </tr>\n",
       "  </thead>\n",
       "  <tbody>\n",
       "    <tr>\n",
       "      <th>0</th>\n",
       "      <td>892</td>\n",
       "      <td>0</td>\n",
       "    </tr>\n",
       "    <tr>\n",
       "      <th>1</th>\n",
       "      <td>893</td>\n",
       "      <td>0</td>\n",
       "    </tr>\n",
       "    <tr>\n",
       "      <th>2</th>\n",
       "      <td>894</td>\n",
       "      <td>0</td>\n",
       "    </tr>\n",
       "    <tr>\n",
       "      <th>3</th>\n",
       "      <td>895</td>\n",
       "      <td>0</td>\n",
       "    </tr>\n",
       "    <tr>\n",
       "      <th>4</th>\n",
       "      <td>896</td>\n",
       "      <td>1</td>\n",
       "    </tr>\n",
       "  </tbody>\n",
       "</table>\n",
       "</div>"
      ],
      "text/plain": [
       "   PassengerId  Survived\n",
       "0          892         0\n",
       "1          893         0\n",
       "2          894         0\n",
       "3          895         0\n",
       "4          896         1"
      ]
     },
     "execution_count": 53,
     "metadata": {},
     "output_type": "execute_result"
    }
   ],
   "source": [
    "#Create a  DataFrame with the passengers ids and our prediction\n",
    "submission = pd.DataFrame({'PassengerId':titanic_test_df['PassengerId'],'Survived':y_pred})\n",
    "\n",
    "#Visualize the first 5 rows\n",
    "submission.head()"
   ]
  },
  {
   "cell_type": "code",
   "execution_count": 54,
   "id": "d1ed6f01",
   "metadata": {
    "execution": {
     "iopub.execute_input": "2022-03-02T08:40:54.737626Z",
     "iopub.status.busy": "2022-03-02T08:40:54.736968Z",
     "iopub.status.idle": "2022-03-02T08:40:54.746751Z",
     "shell.execute_reply": "2022-03-02T08:40:54.747805Z",
     "shell.execute_reply.started": "2022-03-02T08:32:15.909087Z"
    },
    "papermill": {
     "duration": 0.089257,
     "end_time": "2022-03-02T08:40:54.747975",
     "exception": false,
     "start_time": "2022-03-02T08:40:54.658718",
     "status": "completed"
    },
    "tags": []
   },
   "outputs": [
    {
     "name": "stdout",
     "output_type": "stream",
     "text": [
      "Saved file: submission.csv\n"
     ]
    }
   ],
   "source": [
    "filename = 'submission.csv'\n",
    "\n",
    "submission.to_csv(filename,index=False)\n",
    "\n",
    "print('Saved file: ' + filename)"
   ]
  }
 ],
 "metadata": {
  "kernelspec": {
   "display_name": "Python 3",
   "language": "python",
   "name": "python3"
  },
  "language_info": {
   "codemirror_mode": {
    "name": "ipython",
    "version": 3
   },
   "file_extension": ".py",
   "mimetype": "text/x-python",
   "name": "python",
   "nbconvert_exporter": "python",
   "pygments_lexer": "ipython3",
   "version": "3.7.10"
  },
  "papermill": {
   "default_parameters": {},
   "duration": 32.481612,
   "end_time": "2022-03-02T08:40:55.535452",
   "environment_variables": {},
   "exception": null,
   "input_path": "__notebook__.ipynb",
   "output_path": "__notebook__.ipynb",
   "parameters": {},
   "start_time": "2022-03-02T08:40:23.053840",
   "version": "2.3.3"
  }
 },
 "nbformat": 4,
 "nbformat_minor": 5
}
